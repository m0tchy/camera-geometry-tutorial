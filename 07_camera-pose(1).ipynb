{
  "nbformat": 4,
  "nbformat_minor": 0,
  "metadata": {
    "colab": {
      "name": "07_camera-pose(1).ipynb",
      "provenance": [],
      "collapsed_sections": [],
      "toc_visible": true,
      "authorship_tag": "ABX9TyMEtRWAFOxUnVnJ9NAyhBmr",
      "include_colab_link": true
    },
    "kernelspec": {
      "name": "python3",
      "display_name": "Python 3"
    }
  },
  "cells": [
    {
      "cell_type": "markdown",
      "metadata": {
        "id": "view-in-github",
        "colab_type": "text"
      },
      "source": [
        "<a href=\"https://colab.research.google.com/github/m0tchy/camera-geometry-tutorial/blob/main/07_camera_pose(1).ipynb\" target=\"_parent\"><img src=\"https://colab.research.google.com/assets/colab-badge.svg\" alt=\"Open In Colab\"/></a>"
      ]
    },
    {
      "cell_type": "markdown",
      "metadata": {
        "id": "3lw76GIjqYlN"
      },
      "source": [
        "# 準備 (前回と同じ)\n",
        "\n",
        "カメラの投影などを Matplotlib で工夫して表示する関数を定義する。\n",
        "以下のセルを一度実行すること。\n",
        "\n",
        "プロットではまず準備を行う関数 `init_3d_plot` を呼び、\n",
        "続くプロットコマンドでは **Y, Z を逆にする**必要がある。\n",
        "\n",
        "この関数は、 $z = 1$ の平面を正方形で表示する。\n",
        "Z 上の位置は引数で変更できる。"
      ]
    },
    {
      "cell_type": "code",
      "metadata": {
        "id": "z6laRt9hp4iV"
      },
      "source": [
        "import numpy as np\n",
        "import matplotlib.pyplot as plt\n",
        "\n",
        "def init_3d_plot(focal_length=1):\n",
        "\n",
        "    # 投影面の定義\n",
        "    screen_vertices = np.array([\n",
        "        [-1, -1, focal_length], [1, -1, focal_length],\n",
        "        [1, 1, focal_length], [-1, 1, focal_length]])\n",
        "    screen_edges = [0, 1, 2, 3, 0]\n",
        "\n",
        "    fig = plt.figure(figsize=(10, 10))\n",
        "    ax = fig.add_subplot(projection=\"3d\")\n",
        "    ax.set_xlim(-5, 5)\n",
        "    ax.set_ylim(-1, 9)  # Z 軸とみなす\n",
        "    ax.set_zlim(5, -5)  # Y 軸とみなす\n",
        "    ax.set_xlabel(\"X\")\n",
        "    ax.set_ylabel(\"Z\")\n",
        "    ax.set_zlabel(\"Y\")\n",
        "    ax.view_init(20, -25)\n",
        "\n",
        "    # X, Z, Y の順で指定する\n",
        "    ax.plot([0, 0], [-1, 9], [0, 0], \":\", color=\"SILVER\")\n",
        "    ax.plot([0, 1], [0, 0], [0, 0], color=\"RED\")    # X 軸\n",
        "    ax.plot([0, 0], [0, 0], [0, 1], color=\"GREEN\")  # Y 軸\n",
        "    ax.plot([0, 0], [0, 1], [0, 0], color=\"BLUE\")   # Z 軸\n",
        "\n",
        "    ax.plot(screen_vertices[screen_edges, 0], screen_vertices[screen_edges, 2], screen_vertices[screen_edges, 1], color=\"GRAY\")\n",
        "\n",
        "    return fig, ax\n",
        "\n",
        "# plt.figure などの代わりにこの関数を利用する\n",
        "fig, ax = init_3d_plot()\n",
        "# fig, ax = init_3d_plot(3)\n"
      ],
      "execution_count": null,
      "outputs": []
    },
    {
      "cell_type": "markdown",
      "metadata": {
        "id": "sSB_Mec_e3LL"
      },
      "source": [
        "# 復習：空間の点と辺の描画\n",
        "\n",
        "3次元空間の点は、 4 次元ベクトルの同次座標で表現できる。\n",
        "実際の座標は、第4成分で割った第1,2,3成分である。\n",
        "\n",
        "Numpy 配列はインデックスが 0 から始まるので、成分の番号とのずれに注意。"
      ]
    },
    {
      "cell_type": "code",
      "metadata": {
        "id": "S4KOkvjgqMD0"
      },
      "source": [
        "# 空間の点（同次座標） 複数の点を各行に並べる\n",
        "X_ = np.array([\n",
        "    [-1, -1, 5, 1], \n",
        "    [1, -1, 5, 1], \n",
        "    [1, -1, 7, 1], \n",
        "    [-1, -1, 7, 1], \n",
        "\n",
        "    [-1, 1, 5, 1],\n",
        "    [1, 1, 5, 1],\n",
        "    [1, 1, 7, 1],\n",
        "    [-1, 1, 7, 1],\n",
        "\n",
        "    [0, -2, 6, 1],\n",
        "])\n",
        "\n",
        "# 辺（折れ線）の集合: これは行列計算しないので、ただのリストでよい\n",
        "edges = [\n",
        "    [0,1,2,3,0], \n",
        "    [4,5,6,7,4], \n",
        "    [8,0,4], \n",
        "    [8,1,5], \n",
        "    [8,2,6], \n",
        "    [8,3,7], \n",
        "]\n",
        "\n",
        "fig, ax = init_3d_plot()\n",
        "\n",
        "# 普通の座標に変換\n",
        "XX = X_[:, 0] / X_[:, 3]\n",
        "XY = X_[:, 1] / X_[:, 3]\n",
        "XZ = X_[:, 2] / X_[:, 3]\n",
        "ax.scatter(XX, XZ, XY, color=\"BLACK\")  # 表示のために Y, Z を入れ替える\n",
        "for e in edges:\n",
        "    ax.plot(XX[e], XZ[e], XY[e])  # 表示のために Y, Z を入れ替える"
      ],
      "execution_count": null,
      "outputs": []
    },
    {
      "cell_type": "markdown",
      "metadata": {
        "id": "zU-ylEdUfMTO"
      },
      "source": [
        "# 復習：透視投影\n",
        "\n",
        "空間の点を投影中心に向かって投影面へ写すのを透視投影という。\n",
        "投影面までの距離を $f$ とすると、その Z 座標が $f$ になればよいので、\n",
        "$$\n",
        "    \\begin{align}\n",
        "        X' &= (X / Z)f \\\\\n",
        "        Y' &= (Y / Z)f \\\\\n",
        "        Z' &= (Z / Z)f = f\n",
        "    \\end{align}\n",
        "$$\n",
        "となり、その同次座標は、\n",
        "$$\n",
        "    \\begin{align}\n",
        "    \\begin{bmatrix} fX/Z \\\\ fY/Z \\\\ f \\\\ 1 \\end{bmatrix}\n",
        "    \\sim \n",
        "    \\begin{bmatrix} fX \\\\ fY \\\\ fZ \\\\ Z \\end{bmatrix}\n",
        "    \\end{align}\n",
        "$$\n",
        "である。したがって、透視投影変換行列 $P_f$ を\n",
        "$$\n",
        "    P_f = \\begin{bmatrix}\n",
        "         f & 0 & 0 & 0 \\\\\n",
        "         0 & f & 0 & 0 \\\\\n",
        "         0 & 0 & f & 0 \\\\\n",
        "         0 & 0 & 1 & 0\n",
        "     \\end{bmatrix}\n",
        "$$\n",
        "とすれば、 $Z = f$ 上への投影は、\n",
        "$$\n",
        "\\tilde{\\boldsymbol{X}'} \\sim P_f \\tilde{\\boldsymbol{X}}\n",
        "$$\n",
        "となる。\n",
        "\n",
        "以上をまとめると、このようになる。\n",
        "$$\n",
        "    \\tilde{\\boldsymbol{X}'}\n",
        "    = \\begin{bmatrix} X' \\\\ Y' \\\\ Z' \\\\ 1 \\end{bmatrix}\n",
        "    = \\begin{bmatrix} fX/Z \\\\ fY/Z \\\\ f \\\\ 1 \\end{bmatrix}\n",
        "    \\sim \\begin{bmatrix} fX \\\\ fY \\\\ fZ \\\\ Z \\end{bmatrix}\n",
        "    = \\begin{bmatrix}\n",
        "         f & 0 & 0 & 0 \\\\\n",
        "         0 & f & 0 & 0 \\\\\n",
        "         0 & 0 & f & 0 \\\\\n",
        "         0 & 0 & 1 & 0\n",
        "    \\end{bmatrix}\n",
        "    \\begin{bmatrix} X \\\\ Y \\\\ Z \\\\ 1 \\end{bmatrix}\n",
        "    = P_f\\tilde{\\boldsymbol{X}}\n",
        "$$\n",
        "\n"
      ]
    },
    {
      "cell_type": "code",
      "metadata": {
        "id": "50uIJVIkyK3v"
      },
      "source": [
        "# distance to the screen from the origin\n",
        "f = 2\n",
        "\n",
        "projection = np.array([\n",
        "    [f, 0, 0, 0], \n",
        "    [0, f, 0, 0], \n",
        "    [0, 0, f, 0], \n",
        "    [0, 0, 1, 0]])\n",
        "\n",
        "# projected onto the screen\n",
        "X2_ = (projection @ X_.T).T\n",
        "print(X2_)\n",
        "\n",
        "fig, ax = init_3d_plot(f)  # 引数でスクリーンまでの距離を指定する\n",
        "\n",
        "# 光線を書く\n",
        "ax.quiver(0, 0, 0, XX, XZ, XY, color=\"SILVER\", linestyle=\"dashed\", arrow_length_ratio=0)\n",
        "\n",
        "# 普通の座標に変換\n",
        "X2X = X2_[:, 0] / X2_[:, 3]\n",
        "X2Y = X2_[:, 1] / X2_[:, 3]\n",
        "X2Z = X2_[:, 2] / X2_[:, 3]\n",
        "\n",
        "# 点を打つ\n",
        "ax.scatter(XX, XZ, XY, color=\"BLACK\")\n",
        "ax.scatter(X2X, X2Z, X2Y, color=\"BLACK\")"
      ],
      "execution_count": null,
      "outputs": []
    },
    {
      "cell_type": "markdown",
      "metadata": {
        "id": "aCNN9STYeeOE"
      },
      "source": [
        "# 投影面上の図形\n",
        "\n",
        "投影面上に描かれる図形について考えてみよう。\n",
        "\n",
        "投影面上は、 Z が固定された X-Y 平面と考えることができるので、 Z 座標を無視して、平面プロットをすればよい。\n",
        "\n",
        "\n",
        "\n"
      ]
    },
    {
      "cell_type": "code",
      "metadata": {
        "id": "p6HDaJZPh4KN"
      },
      "source": [
        "# 前の結果、 X2X, X2Y, X2Z を利用\n",
        "\n",
        "# X2Z を使わないで、点を打つ\n",
        "fig, ax = plt.subplots()\n",
        "ax.set_xlim(-1, 1)\n",
        "ax.set_ylim(-1, 1)\n",
        "ax.invert_yaxis()  # 画像の座標系になるように y 軸を下向きにする\n",
        "ax.set_aspect(\"equal\")\n",
        "\n",
        "ax.scatter(X2X, X2Y, color=\"BLACK\")\n",
        "for e in edges:\n",
        "    ax.plot(X2X[e], X2Y[e])  # 表示のために Y, Z を入れ替える"
      ],
      "execution_count": null,
      "outputs": []
    },
    {
      "cell_type": "markdown",
      "metadata": {
        "id": "rVWfSLcDjY3B"
      },
      "source": [
        "## 練習\n",
        "\n",
        "この立体図形を、 Y 軸回りに回転させなさい。"
      ]
    },
    {
      "cell_type": "markdown",
      "metadata": {
        "id": "tP0OlB7gcplC"
      },
      "source": [
        "# カメラの姿勢\n",
        "\n",
        "ここまでは、カメラの投影中心が座標系の原点にあり、\n",
        "投影面が Z 軸上に垂直に立っていることを仮定してきた。\n",
        "この座標系はカメラ座標系と呼ばれている。\n",
        "\n",
        "\n",
        "しかし、いろいろなシーンを CG でモデリングしたり、\n",
        "実際に計測したりする場合にカメラの座標系での座標で作業するのは大変である。\n",
        "それよりも、例えば部屋の床面を XY 平面とし部屋の角を原点としたり、\n",
        "地球儀のように、緯度経度のような座標を使ったほうが何かと都合がよい。\n",
        "このような物体のある空間の座標系を**世界座標系** またはワールド座標系 (world coordinate system) という。\n",
        "\n",
        "また、カメラの位置を動かせるようにしたい。物体から離れたり、斜め上から撮影するようなことをしたい。\n",
        "そこでカメラは世界座標系のどこかに投影中心があって、そこからカメラ座標系の向きが決められていると考えよう。\n",
        "このカメラの「位置と向き」を合わせて**姿勢** (pose) という。\n",
        "\n",
        "ここでの問題は、ある点の世界座標系での座標とカメラ座標系での座標の関係を知りたいということである。\n",
        "座標系の区別をわかりやすくするために、それぞれ $\\boldsymbol{X}^{\\mathsf{W}}$, $\\boldsymbol{X}^{\\mathsf{C}}$ のように書くことにしよう。\n",
        "\n",
        "2つの異なる座標系の間の変換を、座標変換という。\n",
        "簡単のために、どちらも直交座標系であり、両者の単位（例えば [m] ）は一致していると仮定する。\n",
        "\n",
        "\n",
        "\n"
      ]
    },
    {
      "cell_type": "markdown",
      "metadata": {
        "id": "66mlprw0uI49"
      },
      "source": [
        "## カメラの並進\n",
        "\n",
        "今までの設定はカメラ座標系が世界座標系と一致していると考えられる。\n",
        "\n",
        "そうすると、投影中心が世界座標で $\\boldsymbol{C}$ にあるカメラは、カメラがそこへ平行移動したものである。\n",
        "ここで、この座標はもちろん世界座標なので $\\boldsymbol{C}^\\mathsf{W}$ とするほうが統一がとれているが、紛らわしくない場合は省略する。\n",
        "\n",
        "\n",
        "想像してほしい。カメラで見ている世界は、カメラが前に進むとどうなるだろうか？　その逆方向に移動することが分かるだろう。\n",
        "したがって、向きの変わっていない単純に平行移動したカメラであれば、\n",
        "\\begin{align}\n",
        "    \\boldsymbol X^\\mathsf{C} &= \n",
        "    \\boldsymbol{X}^\\mathsf{W} -\\boldsymbol{C} \\\\\n",
        "    \\tilde{\\boldsymbol X}^\\mathsf{C} &= \n",
        "    \\begin{bmatrix} \n",
        "        I_{3\\times 3} & -\\boldsymbol{C} \\\\\n",
        "        \\mathbf{0}_3^\\top & 1 \n",
        "    \\end{bmatrix}\n",
        "    \\tilde{\\boldsymbol{X}}^\\mathsf{W}\n",
        "\\end{align}\n",
        "というユークリッド変換をすることと同じである。\n",
        "上が普通の座標での計算、下が同次座標での計算である。\n",
        "これによって、世界座標をカメラ座標として読み直すことができる。\n",
        "この行列を、カメラの姿勢行列とか外部パラメター行列という。\n",
        "\n",
        "実際にやってみよう。\n",
        "例えば、カメラの位置を後ろに下げると、投影された図形も小さくなる。"
      ]
    },
    {
      "cell_type": "code",
      "metadata": {
        "id": "wsSkUBFp2CEZ"
      },
      "source": [
        "# カメラの投影中心\n",
        "# 原点より後ろに下げてみる\n",
        "C = np.array([0, 0, -2])\n",
        "\n",
        "# world to camera transfrom\n",
        "camera_pose = np.array([\n",
        "    [1, 0, 0, -C[0]],\n",
        "    [0, 1, 0, -C[1]],\n",
        "    [0, 0, 1, -C[2]],\n",
        "    [0, 0, 0, 1],\n",
        "])  # 逆平行移動\n",
        "\n",
        "# 投影より前に座標変換を挟む\n",
        "X2_ = (projection @ camera_pose @ X_.T).T\n",
        "\n",
        "# 普通の座標に変換\n",
        "X2X = X2_[:, 0] / X2_[:, 3]\n",
        "X2Y = X2_[:, 1] / X2_[:, 3]\n",
        "X2Z = X2_[:, 2] / X2_[:, 3]  # 2次元の表示には使わない\n",
        "\n",
        "# X2Z を使わないで、点を打つ\n",
        "fig, ax = plt.subplots()\n",
        "ax.set_xlim(-1, 1)\n",
        "ax.set_ylim(-1, 1)\n",
        "ax.invert_yaxis()  # 画像の座標系になるように y 軸を下向きにする\n",
        "ax.set_aspect(\"equal\")\n",
        "\n",
        "ax.scatter(X2X, X2Y, color=\"BLACK\")\n",
        "for e in edges:\n",
        "    ax.plot(X2X[e], X2Y[e])  # 表示のために Y, Z を入れ替える"
      ],
      "execution_count": null,
      "outputs": []
    },
    {
      "cell_type": "markdown",
      "metadata": {
        "id": "MDaAsmXx4Ek7"
      },
      "source": [
        "## 練習\n",
        "\n",
        "左右に移動させるとどうなるか試しなさい。\n",
        "また、 3D でも表示してみなさい。"
      ]
    },
    {
      "cell_type": "markdown",
      "metadata": {
        "id": "oX_w8X-l14V3"
      },
      "source": [
        "## カメラの向き\n",
        "\n",
        "今度は左右に向きを変えてみよう。そうすると世界はその逆向きに回転する。\n",
        "したがって、カメラの座標軸が世界座標からどう回転したかを $R$ と書けば、\n",
        "座標変換はその逆変換 $R^{-1}$ となる。\n",
        "一般に回転行列の逆は転置行列だったことを思い出そう。つまり、$R^{-1} = R^\\top$ である。\n",
        "したがって、座標系の向きが $R$ で回転している場合は、\n",
        "$$\n",
        "    \\boldsymbol{X}^{\\mathsf{C}} = \n",
        "    R^\\top \\boldsymbol{X}^{\\mathsf{W}}\n",
        "$$\n",
        "$$\n",
        "    \\tilde{\\boldsymbol{X}}^{\\mathsf{C}} = \n",
        "    \\begin{bmatrix} \n",
        "        R^\\top & \\boldsymbol{0} \\\\\n",
        "        \\mathbf{0}^\\top & 1 \n",
        "    \\end{bmatrix}\n",
        "    \\tilde{\\boldsymbol{X}}^{\\mathsf{W}}\n",
        "$$\n",
        "となる。\n",
        "\n",
        "例えばカメラが右を向くというのは、 Y 軸の正の回転である。これを確かめよう。右に 10 度カメラを回すと、物体は左に移動する。"
      ]
    },
    {
      "cell_type": "code",
      "metadata": {
        "id": "4Es5LaPx5vLj"
      },
      "source": [
        "# カメラの投影中心は原点 (0, 0, 0)\n",
        "# カメラが右を向く = Y 軸回りに回転\n",
        "pan = np.radians(10)\n",
        "rotation_pan = np.array([\n",
        "    [np.cos(pan), 0, np.sin(pan), 0],\n",
        "    [0, 1, 0, 0],\n",
        "    [-np.sin(pan), 0, np.cos(pan), 0],\n",
        "    [0, 0, 0, 1],\n",
        "])  # Y 軸回りは他と違って下がマイナス\n",
        "\n",
        "# world to camera transfrom\n",
        "camera_pose = rotation_pan.T\n",
        "\n",
        "# 投影より前に座標変換を挟む\n",
        "X2_ = (projection @ camera_pose @ X_.T).T\n",
        "\n",
        "# 普通の座標に変換\n",
        "X2X = X2_[:, 0] / X2_[:, 3]\n",
        "X2Y = X2_[:, 1] / X2_[:, 3]\n",
        "X2Z = X2_[:, 2] / X2_[:, 3]  # 2次元の表示には使わない\n",
        "\n",
        "# X2Z を使わないで、点を打つ\n",
        "fig, ax = plt.subplots()\n",
        "ax.set_xlim(-1, 1)\n",
        "ax.set_ylim(-1, 1)\n",
        "ax.invert_yaxis()  # 画像の座標系になるように y 軸を下向きにする\n",
        "ax.set_aspect(\"equal\")\n",
        "\n",
        "ax.scatter(X2X, X2Y, color=\"BLACK\")\n",
        "for e in edges:\n",
        "    ax.plot(X2X[e], X2Y[e])  # 表示のために Y, Z を入れ替える"
      ],
      "execution_count": null,
      "outputs": []
    },
    {
      "cell_type": "markdown",
      "metadata": {
        "id": "jhOSqUUi64ns"
      },
      "source": [
        "## 練習\n",
        "\n",
        "1. このコードで定義している  Y 軸回りの回転ではカメラが左右に向きを変える。これを[**パン**](https://ja.wikipedia.org/wiki/%E3%83%91%E3%83%B3_(%E6%92%AE%E5%BD%B1%E6%8A%80%E6%B3%95)) (pan) とよぶ。この回転を $R_\\text{pan}$ とすると、 $R^\\top = R_\\text{pan}^\\top$ である。\n",
        "2. 上下に動かしなさい。これを**チルト** (tilt) と呼ぶ。これは X 軸回りの回転である。 これを  $R^\\top = R_\\text{tilt}^\\top$ と書くことにする。 \n",
        "3. pan-tilt を同時に指定したい。それぞれの回転行列を連続して掛ければよいが、 tilt を先にしないと期待した結果にならない。つまり、 $R^\\top = (R_\\text{pan}R_\\text{tilt})^\\top$ とする。\n",
        "これを確かめなさい。\n",
        "\n",
        "* https://en.wikipedia.org/wiki/Panning_(camera)\n",
        "* https://en.wikipedia.org/wiki/Tilt_(camera)"
      ]
    },
    {
      "cell_type": "markdown",
      "metadata": {
        "id": "l2U_Onqw5pGi"
      },
      "source": [
        "## カメラの姿勢\n",
        "\n",
        "カメラの位置も向きも変わっている場合は、この2つを組み合わせればよい。\n",
        "問題はその順番である。\n",
        "回転はあくまでも原点中心であるため、先に向きを変えて平行移動する必要がある。そうすると、\n",
        "$$\n",
        "    \\boldsymbol{X}^{\\mathsf{C}} = \n",
        "    R^\\top \\boldsymbol{X}^{\\mathsf{W}} - \\boldsymbol{C}\n",
        "$$\n",
        "とすればよいと思うかもしれない。\n",
        "しかし、これではだめである。\n",
        "（以下の例で確認すること）\n",
        "\n",
        "なぜなら、それぞれの計算はあくまでも世界座標に対して行われるものであるが、回転後の世界を平行移動するとき、その移動先も位置が変わっている。\n",
        "新しい平行移動先は $R^\\top\\boldsymbol{C}$ である。\n",
        "だから、正しい変換はこうなる。\n",
        "$$\n",
        "    \\boldsymbol{X}^{\\mathsf{C}} = \n",
        "    R^\\top \\boldsymbol{X}^{\\mathsf{W}} - R^\\top\\boldsymbol{C}\n",
        "$$\n",
        "$$\n",
        "    \\tilde{\\boldsymbol{X}}^{\\mathsf{C}} = \n",
        "    \\begin{bmatrix} \n",
        "        R^\\top & -R^\\top\\boldsymbol{C} \\\\\n",
        "        \\mathbf{0}^\\top & 1 \n",
        "    \\end{bmatrix}\n",
        "    \\tilde{\\boldsymbol{X}}^{\\mathsf{W}}\n",
        "$$\n",
        "\n",
        "これで世界座標系から、投影中心 $\\boldsymbol{C}$ と向き $R$ の姿勢をもったカメラの座標系への変換を表す行列が定義できた。\n",
        "\n"
      ]
    },
    {
      "cell_type": "markdown",
      "metadata": {
        "id": "Kk6vokiG_ibZ"
      },
      "source": [
        "## 補足\n",
        "\n",
        "なお、\n",
        "$$\n",
        "    \\boldsymbol{X}^{\\mathsf{C}} = \n",
        "    R^\\top(\\boldsymbol{X}^{\\mathsf{W}} - \\boldsymbol{C})\n",
        "$$\n",
        "と書き直せるから（つまり並進してから回転）、\n",
        "$$\n",
        "    \\tilde{\\boldsymbol{X}}^{\\mathsf{C}} = \n",
        "    \\begin{bmatrix} \n",
        "        R^\\top & \\boldsymbol{0} \\\\\n",
        "        \\mathbf{0}^\\top & 1 \n",
        "    \\end{bmatrix}\n",
        "    \\begin{bmatrix} \n",
        "        I & -\\boldsymbol{C} \\\\\n",
        "        \\mathbf{0}^\\top & 1 \n",
        "    \\end{bmatrix}\n",
        "    \\tilde{\\boldsymbol{X}}^{\\mathsf{W}}\n",
        "$$\n",
        "と分解することもできる。\n",
        "\n",
        "コーディングする際はこちらのほうが書きやすいかもしれない。"
      ]
    },
    {
      "cell_type": "code",
      "metadata": {
        "id": "9d4_6zUljXqw"
      },
      "source": [
        "# カメラを前に移動し、左斜め上に移動する\n",
        "# C = np.array([-2, -2, -2])\n",
        "C = np.array([-2, -5, 2])\n",
        "\n",
        "# カメラを右に 20 度、 下に 45 度下げる \n",
        "pan = np.radians(20)\n",
        "tilt = np.radians(-45)\n",
        "\n",
        "rotation_pan = np.array([\n",
        "    [np.cos(pan), 0, np.sin(pan), 0],\n",
        "    [0, 1, 0, 0],\n",
        "    [-np.sin(pan), 0, np.cos(pan), 0],\n",
        "    [0, 0, 0, 1],\n",
        "])\n",
        "rotation_tilt = np.array([\n",
        "    [1, 0, 0, 0],\n",
        "    [0, np.cos(tilt), -np.sin(tilt), 0],\n",
        "    [0, np.sin(tilt), np.cos(tilt), 0],\n",
        "    [0, 0, 0, 1],\n",
        "])\n",
        "R = rotation_pan @ rotation_tilt\n",
        "\n",
        "translation_inv = np.array([\n",
        "    [1, 0, 0, -C[0]],\n",
        "    [0, 1, 0, -C[1]],\n",
        "    [0, 0, 1, -C[2]],\n",
        "    [0, 0, 0, 1],\n",
        "])\n",
        "\n",
        "# world to camera transfrom\n",
        "# Y 軸回りは他と違って下がマイナスだが、逆回転なので上がマイナスである\n",
        "camera_pose = R.T @ translation_inv\n",
        "\n",
        "# 投影より前に座標変換を挟む\n",
        "X2_ = (projection @ camera_pose @ X_.T).T\n",
        "\n",
        "# 普通の座標に変換\n",
        "X2X = X2_[:, 0] / X2_[:, 3]\n",
        "X2Y = X2_[:, 1] / X2_[:, 3]\n",
        "X2Z = X2_[:, 2] / X2_[:, 3]  # 2次元の表示には使わない\n",
        "\n",
        "# X2Z を使わないで、点を打つ\n",
        "fig, ax = plt.subplots()\n",
        "ax.set_xlim(-1, 1)\n",
        "ax.set_ylim(-1, 1)\n",
        "ax.invert_yaxis()  # 画像の座標系になるように y 軸を下向きにする\n",
        "ax.set_aspect(\"equal\")\n",
        "\n",
        "ax.scatter(X2X, X2Y, color=\"BLACK\")\n",
        "for e in edges:\n",
        "    ax.plot(X2X[e], X2Y[e])  # 表示のために Y, Z を入れ替える"
      ],
      "execution_count": null,
      "outputs": []
    },
    {
      "cell_type": "markdown",
      "metadata": {
        "id": "z2w41rlY3DL9"
      },
      "source": [
        "## 点の変換と座標変換のまとめ\n",
        "\n",
        "これまで、平面や空間の点を**動かす**変換をいろいろ扱ったが、\n",
        "今回のように点は動かずに座標を決める**座標系を変える**変換でも計算上は単に線形変換の行列をかけたり平行移動のためのベクトルを足すだけであり、解釈の違いでしかないことが分かる。\n",
        "\n",
        "https://en.wikipedia.org/wiki/Active_and_passive_transformation\n",
        "\n",
        "一般に、物体をカメラで撮影するとき、以下のような式になる。\n",
        "\n",
        "\\begin{align}\n",
        "\\tilde{\\boldsymbol{X'}} &\\sim P_f M \\tilde{\\boldsymbol{X}}^\\mathsf{W} \\\\\n",
        " &\\sim P_f \\tilde{\\boldsymbol{X}}^\\mathsf{C}\n",
        "\\end{align}\n",
        "\n",
        "ここで、 \n",
        "* $M$ はカメラの姿勢を表す $\\mathsf{W}\\to\\mathsf{C}$ の座標変換である。これを外部パラメターという。また、ビュー (view) 行列ということもある。\n",
        "* $P_f$ は投影面への透視投影 (perspective projection) である。（なお、ここではまだカメラ座標系だが、今後画像座標系への変換に拡張される。）\n",
        "\n",
        "さて、今回の家の形のオブジェクトは世界座標で直接頂点の場所が指定されてる。\n",
        "しかし、オブジェクトはいろいろな位置や大きさでコピーを配置できるようにできたほうが便利である。そこで、世界座標とは別にモデル独自の座標系でデザインをしたほうがやりやすい。\n",
        "例えば家の例の場合は、床面の中央に原点があり、そこから相対的に点の位置を指定する。\n",
        "そして、シーンに置くときにこれまでやったようなユークリッド変換（もしくは拡大縮小などを含むアフィン変換）を適応して配置するのである。\n",
        "\n",
        "これを含めると変換はこのようになる。\n",
        "\n",
        "\\begin{align}\n",
        "\\tilde{\\boldsymbol{X'}} &\\sim P_f M_\\text{view} M_\\text{model} \\tilde{\\boldsymbol{X}}^\\mathsf{M} \\\\\n",
        " &\\sim P_f M_\\text{view} \\tilde{\\boldsymbol{X}}^\\mathsf{W} \\\\\n",
        " &\\sim P_f \\tilde{\\boldsymbol{X}}^\\mathsf{C}\n",
        "\\end{align}\n",
        "\n",
        "* $M_\\text{model}$ は物体を配置するために変換するための行列である。物体は独自のモデル座標系 $\\mathsf{M}$ で記述されていると考えて、それをワールド座標系 $\\mathsf{W}$ に変換している。\n",
        "* OpenGL というグラフィックスのライブラリでは $M = M_\\text{view} M_\\text{model}$ を**モデル・ビュー**変換として１つにまとめて扱っている。\n"
      ]
    },
    {
      "cell_type": "markdown",
      "metadata": {
        "id": "KhR0rIWHyA0f"
      },
      "source": [
        "## 練習\n",
        "これまでの例の家のモデル `X_` と `edges` を床面の中央を原点としたものに書き直し、モデルの変換行列を定義して元のものと同じ位置になるようにする（つまり、原点を (0,0,6) に移動させる変換）。\n",
        "投影変換の際にモデル変換をかけて表示すればこれまでの例と同じになる。"
      ]
    },
    {
      "cell_type": "code",
      "metadata": {
        "id": "f8cgKu-89mVG"
      },
      "source": [
        "# 解答例\n",
        "\n",
        "# (0, 0, 0) が床面の中央なっている家のモデル\n",
        "X_ = np.array([\n",
        "    [-1, -1, -1, 1], \n",
        "    [1, -1, -1, 1], \n",
        "    [1, -1, 1, 1], \n",
        "    [-1, -1, 1, 1], \n",
        "\n",
        "    [-1, 1, -1, 1],\n",
        "    [1, 1, -1, 1],\n",
        "    [1, 1, 1, 1],\n",
        "    [-1, 1, 1, 1],\n",
        "\n",
        "    [0, -2, 0, 1],\n",
        "])\n",
        "\n",
        "edges = [\n",
        "    [0,1,2,3,0], \n",
        "    [4,5,6,7,4], \n",
        "    [8,0,4], \n",
        "    [8,1,5], \n",
        "    [8,2,6], \n",
        "    [8,3,7], \n",
        "]\n",
        "\n",
        "# Z = 6 まで平行移動して配置する\n",
        "model_transform = np.array([\n",
        "    [1, 0, 0, 0],\n",
        "    [0, 1, 0, 0],\n",
        "    [0, 0, 1, 6],\n",
        "    [0, 0, 0, 1],\n",
        "])\n",
        "\n",
        "# X はモデル変換・ビュー変換・透視投影の順で変換される\n",
        "X2_ = (projection @ camera_pose @ model_transform @ X_.T).T\n",
        "\n",
        "# 普通の座標に変換\n",
        "X2X = X2_[:, 0] / X2_[:, 3]\n",
        "X2Y = X2_[:, 1] / X2_[:, 3]\n",
        "X2Z = X2_[:, 2] / X2_[:, 3]  # 2次元の表示には使わない\n",
        "\n",
        "# X2Z を使わないで、点を打つ\n",
        "fig, ax = plt.subplots()\n",
        "ax.set_xlim(-1, 1)\n",
        "ax.set_ylim(-1, 1)\n",
        "ax.invert_yaxis()  # 画像の座標系になるように y 軸を下向きにする\n",
        "ax.set_aspect(\"equal\")\n",
        "\n",
        "ax.scatter(X2X, X2Y, color=\"BLACK\")\n",
        "for e in edges:\n",
        "    ax.plot(X2X[e], X2Y[e])  # 表示のために Y, Z を入れ替える"
      ],
      "execution_count": null,
      "outputs": []
    },
    {
      "cell_type": "code",
      "metadata": {
        "id": "AOjN8pae-SLZ"
      },
      "source": [
        ""
      ],
      "execution_count": null,
      "outputs": []
    }
  ]
}
