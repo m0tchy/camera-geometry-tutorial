{
  "nbformat": 4,
  "nbformat_minor": 0,
  "metadata": {
    "kernelspec": {
      "display_name": "Python 3",
      "language": "python",
      "name": "python3"
    },
    "language_info": {
      "codemirror_mode": {
        "name": "ipython",
        "version": 3
      },
      "file_extension": ".py",
      "mimetype": "text/x-python",
      "name": "python",
      "nbconvert_exporter": "python",
      "pygments_lexer": "ipython3",
      "version": "3.7.9"
    },
    "colab": {
      "name": "02_2D-linear-transform.ipynb",
      "provenance": [],
      "collapsed_sections": [],
      "toc_visible": true,
      "include_colab_link": true
    }
  },
  "cells": [
    {
      "cell_type": "markdown",
      "metadata": {
        "id": "view-in-github",
        "colab_type": "text"
      },
      "source": [
        "<a href=\"https://colab.research.google.com/github/m0tchy/camera-geometry-tutorial/blob/main/02_2D_linear_transform.ipynb\" target=\"_parent\"><img src=\"https://colab.research.google.com/assets/colab-badge.svg\" alt=\"Open In Colab\"/></a>"
      ]
    },
    {
      "cell_type": "code",
      "metadata": {
        "id": "udcTQjS3_Dob"
      },
      "source": [
        "import numpy as np\n",
        "from numpy import linalg\n",
        "# from scipy import linalg\n",
        "\n",
        "import matplotlib.pyplot as plt"
      ],
      "execution_count": null,
      "outputs": []
    },
    {
      "cell_type": "markdown",
      "metadata": {
        "id": "yfLHGTS2oF8G"
      },
      "source": [
        "# 平面上の線形変換"
      ]
    },
    {
      "cell_type": "markdown",
      "metadata": {
        "id": "_NbVOe8doMj3"
      },
      "source": [
        "## 多角形の頂点で観察する"
      ]
    },
    {
      "cell_type": "code",
      "metadata": {
        "id": "n86wjlOR_Doo"
      },
      "source": [
        "# 平面上の点集合\n",
        "# 書くときは、点の座標を横に並べて書くほうが簡単だが、\n",
        "# 数学で扱う場合、行列としては各列に座標を並べたいので、最後に転置する\n",
        "# なお、機械学習などでは各行にデータのベクトルを並べたものを扱うほうが普通\n",
        "\n",
        "p = np.array([\n",
        "    [0, 0],\n",
        "    [0, 1],\n",
        "    [1, 1],\n",
        "    [1, 0]\n",
        "]).T\n",
        "\n",
        "# 各 \"列\" が座標\n",
        "p"
      ],
      "execution_count": null,
      "outputs": []
    },
    {
      "cell_type": "code",
      "metadata": {
        "id": "SPzuXLCr_Do1"
      },
      "source": [
        "fig, ax = plt.subplots()\n",
        "\n",
        "# p[0] は x 座標の列\n",
        "# p[1] は y 座標の列\n",
        "ax.plot(p[0], p[1], '*')\n",
        "ax.axis(\"equal\")\n",
        "ax.grid(True)"
      ],
      "execution_count": null,
      "outputs": []
    },
    {
      "cell_type": "code",
      "metadata": {
        "id": "J9BcuCIPo046"
      },
      "source": [
        "# 多角形として表示するには .fill() を使う\n",
        "# 色などはオプションで指定できる（各自調べること）\n",
        "fig, ax = plt.subplots()\n",
        "ax.fill(p[0], p[1], facecolor=(0.8,1,0.8), edgecolor=(0,0.5,0), linewidth=3)\n",
        "ax.axis(\"equal\")\n",
        "ax.grid(True)"
      ],
      "execution_count": null,
      "outputs": []
    },
    {
      "cell_type": "code",
      "metadata": {
        "id": "CceK9rjR_Do9"
      },
      "source": [
        "# 線形変換の表現行列\n",
        "A = np.array([\n",
        "    [1.3, 0],\n",
        "    [0, .5]\n",
        "])\n",
        "\n",
        "# 回転行列\n",
        "ang = np.radians(10)\n",
        "R = np.array([\n",
        "    [np.cos(ang), np.sin(ang)],\n",
        "    [-np.sin(ang), np.cos(ang)]\n",
        "])\n",
        "\n",
        "print(f\"det(A) = {linalg.det(A)}\")\n",
        "print(f\"det(R) = {linalg.det(R)}\")"
      ],
      "execution_count": null,
      "outputs": []
    },
    {
      "cell_type": "code",
      "metadata": {
        "id": "01uvhOYj_DpE"
      },
      "source": [
        "# A による変換\n",
        "Ap = A @ p\n",
        "print(p)\n",
        "print(Ap)"
      ],
      "execution_count": null,
      "outputs": []
    },
    {
      "cell_type": "code",
      "metadata": {
        "id": "IYzVRUrX_DpN"
      },
      "source": [
        "fig, ax = plt.subplots()\n",
        "ax.fill(p[0], p[1], facecolor=(0,0,0,0.1), edgecolor=(0,0,0,0.5))\n",
        "ax.fill(Ap[0], Ap[1], facecolor=(1,0,0,0.1), edgecolor=(1,0,0,0.5))\n",
        "ax.axis(\"equal\")\n",
        "ax.grid(True)"
      ],
      "execution_count": null,
      "outputs": []
    },
    {
      "cell_type": "code",
      "metadata": {
        "id": "yC3dSx43P1PO"
      },
      "source": [
        "# R による変換とプロット\n"
      ],
      "execution_count": null,
      "outputs": []
    },
    {
      "cell_type": "markdown",
      "metadata": {
        "id": "bv0HhO6CoUSj"
      },
      "source": [
        "## 平面上のグリッド点で観察する"
      ]
    },
    {
      "cell_type": "code",
      "metadata": {
        "id": "_Vtim9cTfGFZ"
      },
      "source": [
        "# グリッドの座標を生成する\n",
        "x = np.linspace(-1, 1, num=11)\n",
        "y = np.linspace(-1, 1, num=11)\n",
        "X, Y = np.meshgrid(x, y)"
      ],
      "execution_count": null,
      "outputs": []
    },
    {
      "cell_type": "code",
      "metadata": {
        "id": "kX8HdqQ_hgTh"
      },
      "source": [
        "fig, ax = plt.subplots()\n",
        "ax.plot(X.flat, Y.flat, \".\")\n",
        "ax.axis(\"equal\")\n",
        "ax.grid(True)"
      ],
      "execution_count": null,
      "outputs": []
    },
    {
      "cell_type": "code",
      "metadata": {
        "id": "K4XryQSChsrn"
      },
      "source": [
        "P = np.vstack((X.flat, Y.flat))\n",
        "AP = A @ P"
      ],
      "execution_count": null,
      "outputs": []
    },
    {
      "cell_type": "code",
      "metadata": {
        "id": "i_yhZDeXkbW4"
      },
      "source": [
        "fig, ax = plt.subplots()\n",
        "ax.plot(X.flat, Y.flat, \".\")\n",
        "ax.plot(AP[0], AP[1], \".\")\n",
        "ax.axis(\"equal\")\n",
        "ax.grid(True)"
      ],
      "execution_count": null,
      "outputs": []
    },
    {
      "cell_type": "code",
      "metadata": {
        "id": "o56OdbJblcjv"
      },
      "source": [
        ""
      ],
      "execution_count": null,
      "outputs": []
    },
    {
      "cell_type": "markdown",
      "metadata": {
        "id": "ekNME-5EnZ-_"
      },
      "source": [
        "# 練習問題\n",
        "\n",
        "1. 多角形の頂点を増やして、より複雑な図形にしてみる。\n",
        "2. 変換行列の成分を変更して、いろいろ試す。\n",
        "3. 点集合の行列 P と変換行列 A を渡すとプロットする関数 plot_transform(P, A) を定義する。\n",
        "    1. そのプロットに標準基底 $(1, 0)^\\top$, $(0, 1)^\\top$ がどのように変換されたかを矢印で表示する。これには、 [ax.arrow()](https://matplotlib.org/api/_as_gen/matplotlib.axes.Axes.arrow.html) を使う。\n",
        "    2. 行列式を表示する。\n",
        "    3. 固有値・固有ベクトルを計算して、固有値の長さの固有ベクトルを図示する。ただし、複素数になる場合は表示しない。"
      ]
    },
    {
      "cell_type": "code",
      "metadata": {
        "id": "JfByhqwMrddU"
      },
      "source": [
        ""
      ],
      "execution_count": null,
      "outputs": []
    }
  ]
}
