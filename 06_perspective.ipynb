{
  "nbformat": 4,
  "nbformat_minor": 0,
  "metadata": {
    "colab": {
      "name": "06_perspective.ipynb",
      "provenance": [],
      "collapsed_sections": [],
      "toc_visible": true,
      "authorship_tag": "ABX9TyN63xRvJRq4jpg6mY8COMcJ",
      "include_colab_link": true
    },
    "kernelspec": {
      "name": "python3",
      "display_name": "Python 3"
    }
  },
  "cells": [
    {
      "cell_type": "markdown",
      "metadata": {
        "id": "view-in-github",
        "colab_type": "text"
      },
      "source": [
        "<a href=\"https://colab.research.google.com/github/m0tchy/camera-geometry-tutorial/blob/main/06_perspective.ipynb\" target=\"_parent\"><img src=\"https://colab.research.google.com/assets/colab-badge.svg\" alt=\"Open In Colab\"/></a>"
      ]
    },
    {
      "cell_type": "markdown",
      "metadata": {
        "id": "3lw76GIjqYlN"
      },
      "source": [
        "# 準備\n",
        "\n",
        "この演習では、カメラの投影などを Matplotlib で表示するために、少し工夫をする。\n",
        "Matplotlib の 3D 表示では、 Z 軸が上向きの右手系であり、これを変更できない。\n",
        "そこで、プロットする際は、 X, Y, Z 座標を、 X, Z, Y として入れ替えてプロットすることにし、\n",
        "表示上は Z 軸の正負を入れ替えて、下向きの Y 軸として考えることにする。\n",
        "\n",
        "以下のコードは、そのような座標系であることを R, G, B 3色の線で表したものを表示して、\n",
        "そのあとのプロットの準備を行う関数 `init_3d_plot` を定義している。\n",
        "詳細を理解することはこの演習の本質ではないので、興味があれば読めばよい。\n",
        "\n",
        "グラフを表示するときはこれを呼び出して、続くプロットコマンドでは Y, Z を逆にすることにする。\n",
        "\n",
        "この関数は、 $z = 1$ の平面を正方形で表示する。\n",
        "Z 上の位置は引数で変更できる。"
      ]
    },
    {
      "cell_type": "code",
      "metadata": {
        "id": "z6laRt9hp4iV"
      },
      "source": [
        "import numpy as np\n",
        "import matplotlib.pyplot as plt\n",
        "\n",
        "def init_3d_plot(screen_distance=1):\n",
        "\n",
        "    # 投影面の定義\n",
        "    screen_vertices = np.array([\n",
        "        [-1, -1, screen_distance], [1, -1, screen_distance],\n",
        "        [1, 1, screen_distance], [-1, 1, screen_distance]])\n",
        "    screen_edges = [0, 1, 2, 3, 0]\n",
        "\n",
        "    fig = plt.figure(figsize=(10, 10))\n",
        "    ax = fig.add_subplot(projection=\"3d\")\n",
        "    ax.set_xlim(-5, 5)\n",
        "    ax.set_ylim(-1, 9)  # Z 軸とみなす\n",
        "    ax.set_zlim(5, -5)  # Y 軸とみなす\n",
        "    ax.set_xlabel(\"X\")\n",
        "    ax.set_ylabel(\"Z\")\n",
        "    ax.set_zlabel(\"Y\")\n",
        "    ax.view_init(20, -25)\n",
        "\n",
        "    # X, Z, Y の順で指定する\n",
        "    ax.plot([0, 0], [-1, 9], [0, 0], \":\", color=\"SILVER\")\n",
        "    ax.plot([0, 1], [0, 0], [0, 0], color=\"RED\")    # X 軸\n",
        "    ax.plot([0, 0], [0, 0], [0, 1], color=\"GREEN\")  # Y 軸\n",
        "    ax.plot([0, 0], [0, 1], [0, 0], color=\"BLUE\")   # Z 軸\n",
        "\n",
        "    ax.plot(screen_vertices[screen_edges, 0], screen_vertices[screen_edges, 2], screen_vertices[screen_edges, 1], color=\"GRAY\")\n",
        "\n",
        "    return fig, ax\n",
        "\n",
        "# plt.figure などの代わりにこの関数を利用する\n",
        "fig, ax = init_3d_plot()\n",
        "fig, ax = init_3d_plot(3)\n"
      ],
      "execution_count": null,
      "outputs": []
    },
    {
      "cell_type": "markdown",
      "metadata": {
        "id": "sSB_Mec_e3LL"
      },
      "source": [
        "# 復習：空間の点\n",
        "\n",
        "3次元空間の点は、 4 次元ベクトルの同次座標で表現できる。\n",
        "実際の座標は、第4成分で割った第1,2,3成分である。\n",
        "\n",
        "Numpy 配列はインデックスが 0 から始まるので、成分の番号とのずれに注意。"
      ]
    },
    {
      "cell_type": "code",
      "metadata": {
        "id": "S4KOkvjgqMD0"
      },
      "source": [
        "# 空間の点（同次座標） 複数の点を各行に並べる\n",
        "X_ = np.array([\n",
        "    [0, 0, 4, 1], \n",
        "    [3, -3, 8, 1], \n",
        "    [-2, -2, 8, 1]\n",
        "])\n",
        "\n",
        "fig, ax = init_3d_plot()\n",
        "\n",
        "# 普通の座標に変換\n",
        "XX = X_[:, 0] / X_[:, 3]\n",
        "XY = X_[:, 1] / X_[:, 3]\n",
        "XZ = X_[:, 2] / X_[:, 3]\n",
        "ax.scatter(XX, XZ, XY, color=\"BLACK\")  # 表示のために Y, Z を入れ替える"
      ],
      "execution_count": null,
      "outputs": []
    },
    {
      "cell_type": "markdown",
      "metadata": {
        "id": "XET4PpTvepej"
      },
      "source": [
        "# 透視投影\n",
        "\n",
        "ピンホールカメラモデルと呼ばれる普通のカメラの基本的な仕組みは、透視投影によって空間の点を平面に写す。"
      ]
    },
    {
      "cell_type": "code",
      "metadata": {
        "id": "abH_Jviqy5DA"
      },
      "source": [
        ""
      ],
      "execution_count": null,
      "outputs": []
    },
    {
      "cell_type": "markdown",
      "metadata": {
        "id": "YqL7-u8zPLuo"
      },
      "source": [
        "## 平面 Z = 1 への投影\n",
        "\n",
        "この資料では、3次元の空間座標は主に大文字で表す。\n",
        "\n",
        "点 $\\boldsymbol{X} = [X, Y, Z]^\\top$ を原点に向かって投影面へ投影した点を $\\boldsymbol{X}' = [X', Y', Z']$ とする。\n",
        "この点の対応を**透視投影** (perspective projection, perspective transformation) という。\n",
        "このとき原点を**光学中心** (optical center)・カメラ中心 (camera center) ・**投影中心** (projection center)などと呼び、\n",
        "投影面への距離を**焦点距離** (focal length) と呼ぶ。\n",
        "また、原点から投影面へ垂直に伸ばした直線を**光軸** (optical axis, principal axis)、\n",
        "その交点を**主点** (principal point) とか**画像中心** (image center) という。  \n",
        "\n",
        "投影元の点と原点とをつなぐ直線を光線 (ray) と呼ぶことにすれば、投影点は投影面と光線の交点である。\n",
        "\n",
        "投影面までの距離を $1$ とすると、その Z 座標が $1$ であるということである。\n",
        "光線上の点は、 X, Y, Z 方向に等倍した点なので、 Z 座標が $1$ になるように全部を割ればよいことがわかる。\n",
        "\n",
        "$$\n",
        "    \\begin{align}\n",
        "        X' &= X / Z \\\\\n",
        "        Y' &= Y / Z \\\\\n",
        "        Z' &= Z / Z = 1\n",
        "    \\end{align}\n",
        "$$\n",
        "これは、線形変換ではないことがわかる（なぜなら線形変換は $X,Y,Z$ の線形和、つまり何倍かして足し合わせることだけしかできないから。）。\n",
        "当然、アフィン変換でもない。\n",
        "したがって、行列の掛け算によって計算することができないように思える。\n",
        "\n",
        "しかし、同次座標で考えるとこの割り算をうまく扱うことができる。\n",
        "全体を定数倍したものは、元の点と同じ座標であると決めたのが同次座標である。\n",
        "したがって、この投影された点の同次座標を\n",
        "$$\n",
        "    \\begin{align}\n",
        "    \\begin{bmatrix} X/Z \\\\ Y/Z \\\\ Z/Z \\\\ 1 \\end{bmatrix}\n",
        "    \\sim \n",
        "    \\begin{bmatrix} X \\\\ Y \\\\ Z \\\\ Z \\end{bmatrix}\n",
        "    \\end{align}\n",
        "$$\n",
        "と変形して、 $[X, Y, Z, Z]^\\top$ という座標が求まればよいことになる。\n",
        "\n",
        "この変換を行列で表すと以下のようになる。\n",
        "$\\boldsymbol{X}$ の同次座標 $\\tilde{\\boldsymbol{X}} = [X, Y, Z, 1]^\\top$\n",
        "に対して、\n",
        "投影された点が $\\tilde{\\boldsymbol{X}'} = [X/Z, Y/Z, 1, 1]^\\top \\sim [X, Y, Z, Z]^\\top$ となるような変換行列 $P$ を考えて、\n",
        "$$\n",
        "    \\tilde{\\boldsymbol{X}'} \\sim P\\tilde{\\boldsymbol{X}}\n",
        "$$\n",
        "と計算すればよい。\n",
        "この行列は以下のように書くことができる。\n",
        "$$\n",
        "    P = \\begin{bmatrix}\n",
        "         1 & 0 & 0 & 0 \\\\\n",
        "         0 & 1 & 0 & 0 \\\\\n",
        "         0 & 0 & 1 & 0 \\\\\n",
        "         0 & 0 & 1 & 0\n",
        "    \\end{bmatrix}\n",
        "$$\n",
        "この行列は最終行が $[0, 0, 0, 1]$ でないのでアフィン変換ではない。\n",
        "この行列が表す変換は**射影変換** (projective transform) と呼ばれるものの一種であり、\n",
        "特に**透視投影変換** (perspective transform) と呼ばれる。\n",
        "\n",
        "以上をまとめると、このようになる。\n",
        "$$\n",
        "    \\tilde{\\boldsymbol{X}'}\n",
        "    = \\begin{bmatrix} X' \\\\ Y' \\\\ Z' \\\\ 1 \\end{bmatrix}\n",
        "    = \\begin{bmatrix} X/Z \\\\ Y/Z \\\\ 1 \\\\ 1 \\end{bmatrix}\n",
        "    \\sim \\begin{bmatrix} X \\\\ Y \\\\ Z \\\\ Z \\end{bmatrix}\n",
        "    = \\begin{bmatrix}\n",
        "         1 & 0 & 0 & 0 \\\\\n",
        "         0 & 1 & 0 & 0 \\\\\n",
        "         0 & 0 & 1 & 0 \\\\\n",
        "         0 & 0 & 1 & 0\n",
        "    \\end{bmatrix}\n",
        "    \\begin{bmatrix} X \\\\ Y \\\\ Z \\\\ 1 \\end{bmatrix}\n",
        "    = P\\tilde{\\boldsymbol{X}}\n",
        "$$\n",
        "\n"
      ]
    },
    {
      "cell_type": "code",
      "metadata": {
        "id": "FCWTi890wVhH"
      },
      "source": [
        "projection = np.array([\n",
        "    [1, 0, 0, 0], \n",
        "    [0, 1, 0, 0], \n",
        "    [0, 0, 1, 0], \n",
        "    [0, 0, 1, 0]])\n",
        "# projection = np.eye(4, 4)\n",
        "\n",
        "# projected onto the screen\n",
        "X2_ = (projection @ X_.T).T\n",
        "print(X2_)\n",
        "\n",
        "fig, ax = init_3d_plot()\n",
        "\n",
        "# 光線を書く\n",
        "ax.quiver(0, 0, 0, XX, XZ, XY, color=\"SILVER\", linestyle=\"dashed\", arrow_length_ratio=0)\n",
        "\n",
        "# 普通の座標に変換\n",
        "X2X = X2_[:, 0] / X2_[:, 3]\n",
        "X2Y = X2_[:, 1] / X2_[:, 3]\n",
        "X2Z = X2_[:, 2] / X2_[:, 3]\n",
        "\n",
        "# 点を打つ\n",
        "ax.scatter(XX, XZ, XY, color=\"BLACK\")\n",
        "ax.scatter(X2X, X2Z, X2Y, color=\"BLACK\")"
      ],
      "execution_count": null,
      "outputs": []
    },
    {
      "cell_type": "markdown",
      "metadata": {
        "id": "zU-ylEdUfMTO"
      },
      "source": [
        "## 平面 Z = f への投影\n",
        "\n",
        "より一般に、\n",
        "投影面までの距離を $f$ とすると、その Z 座標が $f$ になればよいので、\n",
        "$$\n",
        "    \\begin{align}\n",
        "        X' &= (X / Z)f \\\\\n",
        "        Y' &= (Y / Z)f \\\\\n",
        "        Z' &= (Z / Z)f = f\n",
        "    \\end{align}\n",
        "$$\n",
        "となり、その同次座標は、\n",
        "$$\n",
        "    \\begin{align}\n",
        "    \\begin{bmatrix} fX/Z \\\\ fY/Z \\\\ f \\\\ 1 \\end{bmatrix}\n",
        "    \\sim \n",
        "    \\begin{bmatrix} fX \\\\ fY \\\\ fZ \\\\ Z \\end{bmatrix}\n",
        "    \\end{align}\n",
        "$$\n",
        "である。したがって、透視投影変換行列 $P_f$ を\n",
        "$$\n",
        "    P_f = \\begin{bmatrix}\n",
        "         f & 0 & 0 & 0 \\\\\n",
        "         0 & f & 0 & 0 \\\\\n",
        "         0 & 0 & f & 0 \\\\\n",
        "         0 & 0 & 1 & 0\n",
        "     \\end{bmatrix}\n",
        "$$\n",
        "とすれば、 $Z = f$ 上への投影は、\n",
        "$$\n",
        "\\tilde{\\boldsymbol{X}'} \\sim P_f \\tilde{\\boldsymbol{X}}\n",
        "$$\n",
        "となる。\n",
        "\n",
        "以上をまとめると、このようになる。\n",
        "$$\n",
        "    \\tilde{\\boldsymbol{X}'}\n",
        "    = \\begin{bmatrix} X' \\\\ Y' \\\\ Z' \\\\ 1 \\end{bmatrix}\n",
        "    = \\begin{bmatrix} fX/Z \\\\ fY/Z \\\\ f \\\\ 1 \\end{bmatrix}\n",
        "    \\sim \\begin{bmatrix} fX \\\\ fY \\\\ fZ \\\\ Z \\end{bmatrix}\n",
        "    = \\begin{bmatrix}\n",
        "         f & 0 & 0 & 0 \\\\\n",
        "         0 & f & 0 & 0 \\\\\n",
        "         0 & 0 & f & 0 \\\\\n",
        "         0 & 0 & 1 & 0\n",
        "    \\end{bmatrix}\n",
        "    \\begin{bmatrix} X \\\\ Y \\\\ Z \\\\ 1 \\end{bmatrix}\n",
        "    = P_f\\tilde{\\boldsymbol{X}}\n",
        "$$\n",
        "\n"
      ]
    },
    {
      "cell_type": "code",
      "metadata": {
        "id": "50uIJVIkyK3v"
      },
      "source": [
        "# distance to the screen from the origin\n",
        "f = 2\n",
        "\n",
        "projection = np.array([\n",
        "    [f, 0, 0, 0], \n",
        "    [0, f, 0, 0], \n",
        "    [0, 0, f, 0], \n",
        "    [0, 0, 1, 0]])\n",
        "\n",
        "# projected onto the screen\n",
        "X2_ = (projection @ X_.T).T\n",
        "print(X2_)\n",
        "\n",
        "fig, ax = init_3d_plot(f)  # 引数でスクリーンまでの距離を指定する\n",
        "\n",
        "# 光線を書く\n",
        "ax.quiver(0, 0, 0, XX, XZ, XY, color=\"SILVER\", linestyle=\"dashed\", arrow_length_ratio=0)\n",
        "\n",
        "# 普通の座標に変換\n",
        "X2X = X2_[:, 0] / X2_[:, 3]\n",
        "X2Y = X2_[:, 1] / X2_[:, 3]\n",
        "X2Z = X2_[:, 2] / X2_[:, 3]\n",
        "\n",
        "# 点を打つ\n",
        "ax.scatter(XX, XZ, XY, color=\"BLACK\")\n",
        "ax.scatter(X2X, X2Z, X2Y, color=\"BLACK\")"
      ],
      "execution_count": null,
      "outputs": []
    },
    {
      "cell_type": "markdown",
      "metadata": {
        "id": "KFPkFnk4cj_I"
      },
      "source": [
        "## 練習問題\n",
        "\n",
        "前回の演習のように、点の数を増やし、各点をつなぐ辺を適当に定義して、空間上と投影平面上それぞれに表示しなさい。\n"
      ]
    },
    {
      "cell_type": "markdown",
      "metadata": {
        "id": "tzvUyD3Rc_5X"
      },
      "source": [
        "## 解答例\n",
        "最初は見ないでやること。"
      ]
    },
    {
      "cell_type": "code",
      "metadata": {
        "id": "4QSK2lGqdj91"
      },
      "source": [
        "# 全体的には上のコードと同じ\n",
        "# X_, X2_, projection は定義されているとする\n",
        "\n",
        "edges = [0, 1, 2, 0]  # このようなものを追加\n",
        "\n",
        "fig, ax = init_3d_plot(f)  # 引数でスクリーンまでの距離を指定する\n",
        "\n",
        "# 普通の座標に変換\n",
        "X2X = X2_[:, 0] / X2_[:, 3]\n",
        "X2Y = X2_[:, 1] / X2_[:, 3]\n",
        "X2Z = X2_[:, 2] / X2_[:, 3]\n",
        "\n",
        "# 点を打つ\n",
        "ax.scatter(XX, XZ, XY, color=\"BLACK\")\n",
        "ax.scatter(X2X, X2Z, X2Y, color=\"BLACK\")\n",
        "\n",
        "# 辺の描画\n",
        "ax.plot(XX[edges], XZ[edges], XY[edges])\n",
        "ax.plot(X2X[edges], X2Z[edges], X2Y[edges])"
      ],
      "execution_count": null,
      "outputs": []
    },
    {
      "cell_type": "markdown",
      "metadata": {
        "id": "tP0OlB7gcplC"
      },
      "source": [
        "# 投影面上の図形の描画 (次回の予習)\n",
        "\n"
      ]
    },
    {
      "cell_type": "markdown",
      "metadata": {
        "id": "aCNN9STYeeOE"
      },
      "source": [
        "投影面上に描かれる図形について考えてみよう。\n",
        "\n"
      ]
    },
    {
      "cell_type": "markdown",
      "metadata": {
        "id": "q3vn0oDKGvz0"
      },
      "source": [
        "$f = 1$ の場合、つまり投影された点の Z 座標が $1$ の場合、\n",
        "非同次座標は以下の式だった。\n",
        "\n",
        "$$\n",
        "    \\boldsymbol{X}'\n",
        "    = \\begin{bmatrix} X' \\\\ Y' \\\\ Z' \\end{bmatrix}\n",
        "    = \\begin{bmatrix} X/Z \\\\ Y/Z \\\\ 1 \\end{bmatrix}\n",
        "$$\n",
        "\n",
        "これは**投影平面上の2次元座標 $(X/Z, Y/Z)$ の同次座標**であるとみなすことができる。\n",
        "また、一般の $f$  の場合、\n",
        "$$\n",
        "    \\begin{bmatrix} X' \\\\ Y' \\\\ Z' \\end{bmatrix}\n",
        "    = \\begin{bmatrix} fX/Z \\\\ fY/Z \\\\ f \\end{bmatrix}\n",
        "$$\n",
        "なので、**投影平面上の2次元座標**としては $(fX/Z, fY/Z)$ であり、\n",
        "その同次座標は $(fX/Z, fY/Z, 1) \\sim (fX, fY, Z)$ である。\n",
        "\n",
        "$$\n",
        "    \\tilde{\\boldsymbol{x}}'_f\n",
        "    = \\begin{bmatrix} fX/Z \\\\ fY/Z \\\\ 1 \\end{bmatrix}\n",
        "    \\sim \\begin{bmatrix} fX \\\\ fY \\\\ Z \\end{bmatrix}\n",
        "$$\n",
        "\n",
        "この座標は、上で説明した $P_f$ で変換された座標 $(fX, fY, fZ, Z)$ の**第3成分**を抜いたものなので、\n",
        "この行列を再定義して、3次元の同次座標を2次元の同次座標に直接変換するように\n",
        "$$\n",
        "    \\tilde{\\boldsymbol{x}}'_f \n",
        "    \\sim P_f \\tilde{\\boldsymbol{X}'} =\n",
        "    \\begin{bmatrix} f & 0 & 0 & 0 \\\\ 0 & f & 0 & 0 \\\\ 0 & 0 & 1 & 0 \\end{bmatrix} \\tilde{\\boldsymbol{X}'}\n",
        "$$\n",
        "と書く。\n",
        "\n",
        "$f$ の違いは、主点を中心とした拡大縮小であることが幾何的な関係から分かる。\n",
        "この性質はこの行列を以下のように分解できることで理解できる。\n",
        "$$\n",
        "    P_f =\n",
        "    \\begin{bmatrix} f & 0 & 0 \\\\ 0 & f & 0 \\\\ 0 & 0 & 1 \\end{bmatrix}\n",
        "    \\begin{bmatrix} 1 & 0 & 0 & 0 \\\\ 0 & 1 & 0 & 0 \\\\ 0 & 0 & 1 & 0 \\end{bmatrix} = K \\left[ I_{3 \\times 3} \\mid \\mathbf{0}_3 \\right]\n",
        "$$\n",
        "これは、（左から順に変換が行われるので）まず第3成分を取り除き、そのあと拡大縮小することを表現している。\n",
        "\n",
        "左のアフィン変換 $K$ はカメラ固有の性質を表しているものなので、カメラ校正行列 (camera calibration matrix) とか、内部パラメター行列 (intrinsic parameters matrix) などと呼ばれる。"
      ]
    },
    {
      "cell_type": "code",
      "metadata": {
        "id": "ug20KFkngD5J"
      },
      "source": [
        ""
      ],
      "execution_count": null,
      "outputs": []
    }
  ]
}