{
  "nbformat": 4,
  "nbformat_minor": 0,
  "metadata": {
    "colab": {
      "name": "05_3D-transform",
      "provenance": [],
      "collapsed_sections": [],
      "toc_visible": true,
      "authorship_tag": "ABX9TyMO3bFPnIeiLfuZqH0RrxG3",
      "include_colab_link": true
    },
    "kernelspec": {
      "name": "python3",
      "display_name": "Python 3"
    }
  },
  "cells": [
    {
      "cell_type": "markdown",
      "metadata": {
        "id": "view-in-github",
        "colab_type": "text"
      },
      "source": [
        "<a href=\"https://colab.research.google.com/github/m0tchy/camera-geometry-tutorial/blob/main/05_3D_transform.ipynb\" target=\"_parent\"><img src=\"https://colab.research.google.com/assets/colab-badge.svg\" alt=\"Open In Colab\"/></a>"
      ]
    },
    {
      "cell_type": "markdown",
      "metadata": {
        "id": "uAgtK8jbmhAO"
      },
      "source": [
        "3 次元の幾何変換\n"
      ]
    },
    {
      "cell_type": "markdown",
      "metadata": {
        "id": "QwZR7m4zntZl"
      },
      "source": [
        "# 非同次座標の場合\n",
        "\n",
        "まずは、 (x, y, z) という通常の座標で練習する。"
      ]
    },
    {
      "cell_type": "markdown",
      "metadata": {
        "id": "vPCLArg9msda"
      },
      "source": [
        "## 点の表示\n",
        "\n",
        "$n$ 個の 3 次元の点の座標を、 `(n, 3)` の形の配列に入れて、\n",
        "`scatter` (`plot` でも可能) で表示する。\n",
        "数学では幾何的な点のことを vertex と呼ぶ（複数形: vertices)。\n",
        "\n",
        "\n",
        "3D プロットをするには、 Axes を作る際に `projection=\"3d\"` の指定が必要なため、\n",
        "Figure, Axes を別々に作る `plt.figure` と `ax.add_subplot` を使っている。"
      ]
    },
    {
      "cell_type": "code",
      "metadata": {
        "id": "sRaXovJnjSOy"
      },
      "source": [
        "import numpy as np\n",
        "import matplotlib.pyplot as plt\n",
        "\n",
        "vertices = np.array([\n",
        "    [-1, -1, -1],\n",
        "    [-1,  1, -1],\n",
        "    [ 1,  1, -1],\n",
        "    [ 1, -1, -1],\n",
        "    [-1, -1,  1],\n",
        "    [-1,  1,  1],\n",
        "    [ 1,  1,  1],\n",
        "    [ 1, -1,  1],\n",
        "])\n",
        "\n",
        "fig = plt.figure()\n",
        "ax = fig.add_subplot(projection=\"3d\")\n",
        "ax.set_xlim(-3, 3)\n",
        "ax.set_ylim(-3, 3)\n",
        "ax.set_zlim(-3, 3)\n",
        "\n",
        "ax.scatter(vertices[:, 0], vertices[:, 1], vertices[:, 2], color=\"BLACK\")"
      ],
      "execution_count": null,
      "outputs": []
    },
    {
      "cell_type": "markdown",
      "metadata": {
        "id": "MoB9bOi3oYOo"
      },
      "source": [
        "## 辺の表示\n",
        "\n",
        "頂点の間をつなぐ辺を、頂点番号の列として定義して表示する。\n",
        "\n",
        "辺は edge という。"
      ]
    },
    {
      "cell_type": "code",
      "metadata": {
        "id": "CmgpMTuVlBGb"
      },
      "source": [
        "# 上で作った vertices を利用\n",
        "\n",
        "edge1 = [0, 1]\n",
        "edge2 = [4, 5, 6, 7]  # 多辺形もできる\n",
        "\n",
        "fig = plt.figure()\n",
        "ax = fig.add_subplot(projection=\"3d\")\n",
        "ax.set_xlim(-3, 3)\n",
        "ax.set_ylim(-3, 3)\n",
        "ax.set_zlim(-3, 3)\n",
        "\n",
        "ax.scatter(vertices[:, 0], vertices[:, 1], vertices[:, 2], color=\"BLACK\")\n",
        "plt.plot(vertices[edge1, 0], vertices[edge1, 1], vertices[edge1, 2])\n",
        "plt.plot(vertices[edge2, 0], vertices[edge2, 1], vertices[edge2, 2])"
      ],
      "execution_count": null,
      "outputs": []
    },
    {
      "cell_type": "markdown",
      "metadata": {
        "id": "Odgioqpzo6mC"
      },
      "source": [
        "## 複雑な図形を表現する\n",
        "\n",
        "辺をさらにリストにして、複雑な辺を持つ図形を表現する。\n",
        "この場合は、 `for` 文で 1 つの辺ずつ表示すればよい。"
      ]
    },
    {
      "cell_type": "code",
      "metadata": {
        "id": "BHrmJFiTlq2_"
      },
      "source": [
        "# 上で作った vertices を利用\n",
        "\n",
        "edges = [ [0, 1], [1, 2], [2, 3], [3, 0] ]\n",
        "\n",
        "fig = plt.figure()\n",
        "ax = fig.add_subplot(projection=\"3d\")\n",
        "ax.set_xlim(-3, 3)\n",
        "ax.set_ylim(-3, 3)\n",
        "ax.set_zlim(-3, 3)\n",
        "\n",
        "ax.scatter(vertices[:, 0], vertices[:, 1], vertices[:, 2], color=\"BLACK\")\n",
        "\n",
        "for e in edges:\n",
        "    plt.plot(vertices[e, 0], vertices[e, 1], vertices[e, 2])"
      ],
      "execution_count": null,
      "outputs": []
    },
    {
      "cell_type": "markdown",
      "metadata": {
        "id": "Yx9qtoytmZOd"
      },
      "source": [
        "## 練習\n",
        "\n",
        "上の例を変更して、立方体を表示する。"
      ]
    },
    {
      "cell_type": "markdown",
      "metadata": {
        "id": "6CHL1nL5wJIF"
      },
      "source": [
        "# 同次座標の場合"
      ]
    },
    {
      "cell_type": "markdown",
      "metadata": {
        "id": "1RY25AkZpnfp"
      },
      "source": [
        "## 同次座標にする\n",
        "\n",
        "点の座標が最初から同次座標として与えられているとも限らない。\n",
        "非同次座標から同次座標を作るには、第 4 成分に 1 を追加する。\n",
        "\n",
        "Numpy では、 `np.hstack()`, `np.c_[]` など複数の方法があるのだが、どれもコードは煩雑になる。\n"
      ]
    },
    {
      "cell_type": "code",
      "metadata": {
        "id": "Sc6CWqEfmQ3J"
      },
      "source": [
        "import numpy as np\n",
        "import matplotlib.pyplot as plt\n",
        "\n",
        "vertices = np.array([\n",
        "    [-1, -1, -1],\n",
        "    [-1,  1, -1],\n",
        "    [ 1,  1, -1],\n",
        "    [ 1, -1, -1],\n",
        "    [-1, -1,  1],\n",
        "    [-1,  1,  1],\n",
        "    [ 1,  1,  1],\n",
        "    [ 1, -1,  1],\n",
        "])\n",
        "\n",
        "# 点の個数と同じ大きさの 1 の配列を作って、水平に連結する\n",
        "# hstack の引数にはつなげるものを [ ] を使ってリストにする必要があることに注意\n",
        "# また、次元を一致させないとエラーになるので、記述が煩雑になる\n",
        "ones = np.ones((len(vertices), 1))\n",
        "vertices1 = np.hstack([vertices, ones])\n",
        "print(vertices1)\n",
        "\n",
        "# np.c_ はもう少し簡単に書ける\n",
        "vertices2 = np.c_[vertices, np.ones(len(vertices))]\n",
        "print(vertices2)\n"
      ],
      "execution_count": null,
      "outputs": []
    },
    {
      "cell_type": "markdown",
      "metadata": {
        "id": "Ku0j8axCuEiN"
      },
      "source": [
        "## 普通の座標に戻す\n",
        "\n",
        "というわけで、ここからは最初から同次座標で図形を与えておくことにしよう。\n",
        "\n",
        "同次座標の第 4 成分が 1 の時、第 1～3 成分は空間の点の座標を表しているが、そうでない場合は全体を第4成分で割ることで座標を計算できる。\n",
        "\n",
        "このような4つの値の同次座標ベクトルが与えられたとする。\n",
        "$$ \\tilde{\\boldsymbol{x}} = \\begin{bmatrix} x_1 \\\\ x_2 \\\\ x_3 \\\\ x_4 \\end{bmatrix}$$\n",
        "\n",
        "第4成分を1にするには全体を $x_4$ で割ればよい。定義より、この定数倍されたベクトルは、元の同次座標と同じ点を表している。\n",
        "これを**同値** (equivalent) といい、 $=$ とは区別して $\\sim$ という記号で表す。\n",
        "\n",
        "$$\\begin{bmatrix} x_1 \\\\ x_2 \\\\ x_3 \\\\ x_4 \\end{bmatrix} \\sim \\begin{bmatrix} x_1/x_4 \\\\ x_2/x_4 \\\\ x_3/x_4 \\\\ 1 \\end{bmatrix} $$\n",
        "\n",
        "以下の例では、第4成分が、 1 と 3 の場合を混ぜている。\n",
        "3 の場合、実際の座標は 1/3 になるため、中央に集まることが確認できる。\n",
        "なお、\n",
        "コードでは成分を `[0], [1], [2], [3]` というインデックスで表すので、混乱しないように注意。"
      ]
    },
    {
      "cell_type": "code",
      "metadata": {
        "id": "xCy8coX9tJWP"
      },
      "source": [
        "import numpy as np\n",
        "import matplotlib.pyplot as plt\n",
        "\n",
        "vertices = np.array([\n",
        "    # 重みが 1\n",
        "    [-1, -1, -1, 1],\n",
        "    [-1,  1, -1, 1],\n",
        "    [ 1,  1, -1, 1],\n",
        "    [ 1, -1, -1, 1],\n",
        "    # 重みが 3\n",
        "    [-1, -1,  1, 3],\n",
        "    [-1,  1,  1, 3],\n",
        "    [ 1,  1,  1, 3],\n",
        "    [ 1, -1,  1, 3],\n",
        "])\n",
        "edges = [ [0, 1, 2, 3, 0], [4, 5, 6, 7, 4] ]\n",
        "\n",
        "\n",
        "fig = plt.figure()\n",
        "ax = fig.add_subplot(projection=\"3d\")\n",
        "ax.set_xlim(-3, 3)\n",
        "ax.set_ylim(-3, 3)\n",
        "ax.set_zlim(-3, 3)\n",
        "\n",
        "# 座標をあらかじめ計算: 第4成分 [3] で割る。\n",
        "X = vertices[:, 0] / vertices[:, 3]\n",
        "Y = vertices[:, 1] / vertices[:, 3]\n",
        "Z = vertices[:, 2] / vertices[:, 3]\n",
        "ax.scatter(X, Y, Z, color=\"BLACK\")\n",
        "\n",
        "for e in edges:\n",
        "    plt.plot(X[e], Y[e], Z[e])"
      ],
      "execution_count": null,
      "outputs": []
    },
    {
      "cell_type": "markdown",
      "metadata": {
        "id": "kQ0bhl0dyx8I"
      },
      "source": [
        "## 第4成分が 0 の場合\n",
        "\n",
        "0 による割り算になるのでエラーになる。\n",
        "実用的なプログラムではこのような場合の処理を入れる必要があるが、ここでは省略する。"
      ]
    },
    {
      "cell_type": "markdown",
      "metadata": {
        "id": "1N62vgHizU5-"
      },
      "source": [
        "## 同次座標の利点\n"
      ]
    },
    {
      "cell_type": "markdown",
      "metadata": {
        "id": "JSDLZqzY0zg3"
      },
      "source": [
        "\n",
        "コンピューターでは、小数を正しく表現できない。\n",
        "例えば、 0.1 + 0.1 + 0.1 == 0.3 にならない。\n",
        "これは、 0.1 も 0.3 も内部的には近似値でしかないためである。\n"
      ]
    },
    {
      "cell_type": "code",
      "metadata": {
        "id": "qZyVUDA2xYkz"
      },
      "source": [
        "# 成り立たないので False が表示される\n",
        "print(0.1 + 0.1 + 0.1 == 0.3)"
      ],
      "execution_count": null,
      "outputs": []
    },
    {
      "cell_type": "markdown",
      "metadata": {
        "id": "LFr-erAt0sNS"
      },
      "source": [
        "したがって、小数の計算はなるべく避けたい。\n",
        "同次座標は、有理数（整数の分数で書ける数）を正確に表現できる。\n",
        "例えば、 $(1.1, 1, 2)$ という座標は、\n",
        "コンピューター上では不正確な値になる。\n",
        "同次座標では $(1.1, 1, 2, 1)$ であるが、\n",
        "例えば10倍して $(11, 10, 20, 10)$ も同じ点を表す。\n",
        "この表現なら正確に実数値座標の点を表している。\n",
        "\n",
        "同じように、線形変換のスケーリングなども、同じである。\n",
        "1/3 倍 (= 0.333...) は\n",
        "$$\\begin{bmatrix} \n",
        "    1/3 & 0 & 0 & 0 \\\\\n",
        "    0 & 1/3 & 0 & 0 \\\\\n",
        "    0 & 0 & 1/3 & 0 \\\\\n",
        "    0 & 0 & 0 & 1 \\end{bmatrix}$$\n",
        "であるが、全体を 3 倍した\n",
        "$$\n",
        "    \\begin{bmatrix} \n",
        "    1 & 0 & 0 & 0 \\\\\n",
        "    0 & 1 & 0 & 0 \\\\\n",
        "    0 & 0 & 1 & 0 \\\\\n",
        "    0 & 0 & 0 & 3 \\end{bmatrix}\n",
        "$$\n",
        "も同じ変換を表す。\n",
        "\n",
        "もちろん、最終的に計算するときは上でやったように割り算をするのでコンピューター上の不正確な表現になるが、\n",
        "計算を繰り返す途中では、同次座標での表現を工夫することで精度が保たれる。\n"
      ]
    },
    {
      "cell_type": "markdown",
      "metadata": {
        "id": "ywB2CbMd3CPz"
      },
      "source": [
        "# ユークリッド変換\n",
        "\n",
        "ここからは、点のユークリッド変換を考えよう。\n",
        "ユークリッド変換（または剛体変換）とは、回転と並進の組み合わせで、\n",
        "$$\n",
        "\\boldsymbol{x}' = R \\boldsymbol{x} + \\boldsymbol{t}\n",
        "$$\n",
        "という形で表される変換である。\n",
        "この変換は同次座標に対しては以下の行列をかけること同じである。\n",
        "$$\n",
        "\\begin{bmatrix} R & \\boldsymbol{t} \\\\\n",
        "\\boldsymbol{0}_3^\\top & 1 \\end{bmatrix}\n",
        "$$\n",
        "\n",
        "\n",
        "この変換行列は以下のように平行移動と回転の行列に分解できる。\n",
        "$$\n",
        "\\begin{bmatrix} O_{3 \\times 3} & \\boldsymbol{t} \\\\\n",
        "\\boldsymbol{0}_3^\\top & 1 \\end{bmatrix}\n",
        "\\begin{bmatrix} R & \\boldsymbol{0}_3 \\\\\n",
        "\\boldsymbol{0}_3^\\top & 1 \\end{bmatrix}\n",
        "$$\n",
        "\n",
        "積の順序を入れ替えることはできない（⇔行列の積は可換ではない）。\n",
        "この行列を左から同次座標にかけるので、変換によってまず回転され、その後平行移動される。\n",
        "これは、$R \\boldsymbol{x} + \\boldsymbol{t}$ の計算順序と同じであることがわかる。"
      ]
    },
    {
      "cell_type": "markdown",
      "metadata": {
        "id": "DsN3IEXz3IrV"
      },
      "source": [
        "## ユークリッド変換行列を作る\n",
        "\n",
        "回転行列、平行移動行列を作る関数をそれぞれ\n",
        "`rotation{X,Y,Z}_matrix`, `translation_matrix` として作る。\n",
        "\n",
        "実装にはいろいろ方法があるのでこれは一例である。\n"
      ]
    },
    {
      "cell_type": "code",
      "metadata": {
        "id": "3-t-EZgp3B0s"
      },
      "source": [
        "def translation_matrix(dx, dy, dz):\n",
        "    return np.array([\n",
        "        [1, 0, 0, dx],\n",
        "        [0, 1, 0, dy],\n",
        "        [0, 0, 1, dz],\n",
        "        [0, 0, 0, 1]])\n",
        "\n",
        "\n",
        "def rotationX_matrix(angle_deg):\n",
        "    '''\n",
        "    角度 angle_deg [deg] の X 軸回りの回転行列\n",
        "    '''\n",
        "    a = np.radians(angle_deg)\n",
        "    return np.array([\n",
        "        [1, 0, 0, 0],\n",
        "        [0, np.cos(a), -np.sin(a), 0],\n",
        "        [0, np.sin(a), np.cos(a), 0],\n",
        "        [0, 0, 0, 1]])\n",
        "\n",
        "\n",
        "R = rotationX_matrix(30)\n",
        "T = translation_matrix(5, 0, -2)\n",
        "\n",
        "# 行列の積は可換ではない <=> 変換の順番を入れ替えると結果が異なる\n",
        "np.allclose(T@R, R@T)  # False となる\n"
      ],
      "execution_count": null,
      "outputs": []
    },
    {
      "cell_type": "code",
      "metadata": {
        "id": "TZOYAdtC6D4Y"
      },
      "source": [
        ""
      ],
      "execution_count": null,
      "outputs": []
    },
    {
      "cell_type": "markdown",
      "metadata": {
        "id": "6xpYQzFM788s"
      },
      "source": [
        "## 練習\n",
        "\n",
        "上のコードに\n",
        "Y, Z 軸回りの回転行列の定義を追加しなさい。\n",
        "Y の場合の符号に注意。"
      ]
    },
    {
      "cell_type": "code",
      "metadata": {
        "id": "3MJzMP5k-7rH"
      },
      "source": [
        ""
      ],
      "execution_count": null,
      "outputs": []
    },
    {
      "cell_type": "code",
      "metadata": {
        "id": "swtNNGAi77_m"
      },
      "source": [
        "# 解答例\n",
        "def rotationY_matrix(angle_deg):\n",
        "    '''\n",
        "    角度 angle_deg [deg] の Y 軸回りの回転行列\n",
        "    '''\n",
        "    a = np.radians(angle_deg)\n",
        "    return np.array([\n",
        "        [np.cos(a), 0, np.sin(a), 0],\n",
        "        [0, 1, 0, 0],\n",
        "        [-np.sin(a), 0, np.cos(a), 0],\n",
        "        [0, 0, 0, 1]])\n",
        "\n",
        "\n",
        "def rotationZ_matrix(angle_deg):\n",
        "    '''\n",
        "    角度 angle_deg [deg] の Z 軸回りの回転行列\n",
        "    '''\n",
        "    a = np.radians(angle_deg)\n",
        "    return np.array([\n",
        "        [np.cos(a), -np.sin(a), 0, 0],\n",
        "        [np.sin(a), np.cos(a), 0, 0],\n",
        "        [0, 0, 1, 0],\n",
        "        [0, 0, 0, 1]])\n"
      ],
      "execution_count": null,
      "outputs": []
    },
    {
      "cell_type": "markdown",
      "metadata": {
        "id": "hr3aFRgh_gY-"
      },
      "source": [
        "## 実際に変換してみる\n",
        "\n",
        "前回までの演習では、縦ベクトルを横に並べた行列を作っていたが、\n",
        "今回からは配列操作のしやすい横ベクトルが縦に並んだものとして点集合を表している。\n",
        "そのため、行列を掛け算するときは、いったん転置して、\n",
        "行列をかけた結果を再び転置する必要がある。\n",
        "\n",
        "$$ X = \\begin{bmatrix} \\boldsymbol{x}_1^\\top \\\\ \\vdots \\end{bmatrix} $$\n",
        "$$ X' = (AX^\\top)^\\top = \\begin{bmatrix} (A\\boldsymbol{x}_1)^\\top \\\\ \\vdots \\end{bmatrix} $$"
      ]
    },
    {
      "cell_type": "code",
      "metadata": {
        "id": "BXECbp1p87BX"
      },
      "source": [
        "import numpy as np\n",
        "import matplotlib.pyplot as plt\n",
        "\n",
        "vertices = np.array([\n",
        "    # 重みが 1\n",
        "    [-1, -1, -1, 1],\n",
        "    [-1,  1, -1, 1],\n",
        "    [ 1,  1, -1, 1],\n",
        "    [ 1, -1, -1, 1],\n",
        "    # 重みが 3\n",
        "    [-1, -1,  1, 3],\n",
        "    [-1,  1,  1, 3],\n",
        "    [ 1,  1,  1, 3],\n",
        "    [ 1, -1,  1, 3],\n",
        "])\n",
        "edges = [ [0, 1, 2, 3, 0], [4, 5, 6, 7, 4] ]\n",
        "\n",
        "\n",
        "R = rotationZ_matrix(30)\n",
        "T = translation_matrix(-3, 0, 1)\n",
        "\n",
        "vertices2 = ((T@R) @ vertices.T).T\n",
        "\n",
        "\n",
        "fig = plt.figure()\n",
        "ax = fig.add_subplot(projection=\"3d\")\n",
        "ax.set_xlim(-3, 3)\n",
        "ax.set_ylim(-3, 3)\n",
        "ax.set_zlim(-3, 3)\n",
        "\n",
        "# ## 変換前 (vertices)\n",
        "# 座標をあらかじめ計算: 第4成分 [3] で割る。\n",
        "X = vertices[:, 0] / vertices[:, 3]\n",
        "Y = vertices[:, 1] / vertices[:, 3]\n",
        "Z = vertices[:, 2] / vertices[:, 3]\n",
        "\n",
        "ax.scatter(X, Y, Z, color=\"GRAY\")\n",
        "\n",
        "for e in edges:\n",
        "    plt.plot(X[e], Y[e], Z[e], color=\"GRAY\")\n",
        "\n",
        "# ## 変換後 (vertices2)\n",
        "# 座標をあらかじめ計算: 第4成分 [3] で割る。\n",
        "X2 = vertices2[:, 0] / vertices2[:, 3]\n",
        "Y2 = vertices2[:, 1] / vertices2[:, 3]\n",
        "Z2 = vertices2[:, 2] / vertices2[:, 3]\n",
        "\n",
        "ax.scatter(X2, Y2, Z2, color=\"RED\")\n",
        "\n",
        "for e in edges:\n",
        "    plt.plot(X2[e], Y2[e], Z2[e], color=\"RED\")"
      ],
      "execution_count": null,
      "outputs": []
    },
    {
      "cell_type": "code",
      "metadata": {
        "id": "M80LHx5MAHal"
      },
      "source": [
        ""
      ],
      "execution_count": null,
      "outputs": []
    },
    {
      "cell_type": "markdown",
      "metadata": {
        "id": "gLB-xtL2CWit"
      },
      "source": [
        "## 練習\n",
        "\n",
        "上のコードを参考に、\n",
        "図形を (2, 0, 0) の位置から Z 軸回りに 30 度ずつ回転させて配置しなさい。合計 6 個になる。"
      ]
    },
    {
      "cell_type": "code",
      "metadata": {
        "id": "XmXiiJDfCX4G"
      },
      "source": [
        ""
      ],
      "execution_count": null,
      "outputs": []
    }
  ]
}