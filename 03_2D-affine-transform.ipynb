{
  "nbformat": 4,
  "nbformat_minor": 0,
  "metadata": {
    "kernelspec": {
      "display_name": "Python 3",
      "language": "python",
      "name": "python3"
    },
    "language_info": {
      "codemirror_mode": {
        "name": "ipython",
        "version": 3
      },
      "file_extension": ".py",
      "mimetype": "text/x-python",
      "name": "python",
      "nbconvert_exporter": "python",
      "pygments_lexer": "ipython3",
      "version": "3.7.9"
    },
    "colab": {
      "name": "03_2D-affine-transform.ipynb",
      "provenance": [],
      "collapsed_sections": [
        "ntpjA8dmSIDT"
      ],
      "toc_visible": true,
      "include_colab_link": true
    }
  },
  "cells": [
    {
      "cell_type": "markdown",
      "metadata": {
        "id": "view-in-github",
        "colab_type": "text"
      },
      "source": [
        "<a href=\"https://colab.research.google.com/github/m0tchy/camera-geometry-tutorial/blob/main/03_2D-affine-transform.ipynb\" target=\"_parent\"><img src=\"https://colab.research.google.com/assets/colab-badge.svg\" alt=\"Open In Colab\"/></a>"
      ]
    },
    {
      "cell_type": "code",
      "metadata": {
        "id": "udcTQjS3_Dob"
      },
      "source": [
        "import numpy as np\n",
        "from numpy import linalg\n",
        "# from scipy import linalg\n",
        "\n",
        "import matplotlib.pyplot as plt\n",
        "from matplotlib import ticker\n",
        "\n",
        "# プロットのスタイルを同じにするための便利関数\n",
        "def set_plot_style(ax):\n",
        "    ax.axis(\"equal\")\n",
        "    ax.grid(True)\n",
        "    ax.xaxis.set_major_locator(ticker.MultipleLocator(0.25))\n",
        "    ax.yaxis.set_major_locator(ticker.MultipleLocator(0.25))\n"
      ],
      "execution_count": null,
      "outputs": []
    },
    {
      "cell_type": "markdown",
      "metadata": {
        "id": "lFT7fczzWrrK"
      },
      "source": [
        "# 回転の逆変換は転置\n",
        "\n",
        "原点周りで、 x 軸から y 軸へ向かう方向の、角度 $\\theta$ の回転を表す変換行列は\n",
        "$$ R(\\theta) := \\begin{bmatrix} \\cos \\theta & -\\sin \\theta \\\\ \\sin \\theta & \\cos \\theta \\end{bmatrix}$$\n",
        "と書ける.\n",
        "第1列は $[1, 0]^\\top$ の変換先, 第2列は $[0, 1]^\\top$ の変換先であることを知っていると覚えやすい。\n",
        "\n",
        "\n",
        "逆回転はその逆行列 $R(\\theta)^{-1}$ であるが,\n",
        "これは当然 $R(-\\theta)$ と等しい.\n",
        "一方, 計算するとわかる通り, $R(-\\theta) = R(\\theta)^\\top$ となる.\n",
        "\n",
        "一般に逆行列に関して $A^{-1} A = A A^{-1} = I$ ($I$ は単位行列) が成り立つ.\n",
        "そうすると、 $A^{-1} = A^\\top$ から $A^\\top A = AA^\\top = I$ が成り立つ.\n",
        "これは $A$ の各行・各列がお互いに直交していることを表現している。\n",
        "これが成り立つ $A$ を**直交行列** (orthogonal matrix) という.\n",
        "\n",
        "回転行列は面積を変えない変換である.\n",
        "これは $\\det R(\\theta) = 1$ であることから分かる.\n",
        "\n",
        "まとめると, 回転行列とは直交行列かつ行列式が 1 であるものと云うことができる.\n",
        "このような行列を**特殊直交群** (special orthogonal group) といい, 2次元の場合は $\\mathrm{SO}(2)$ と表記する. (回転群と呼ぶこともある.)\n",
        "\n",
        "ちなみに, 直交行列だが行列式が $1$ でないものは鏡映変換（と、さらに回転が含まれるもの）で、行列式は $-1$ になる.\n",
        "直交行列の行列式は $1$ か $-1$ にしかならない."
      ]
    },
    {
      "cell_type": "code",
      "metadata": {
        "id": "G5A-uMZda5iy"
      },
      "source": [
        "# 回転行列を作る関数\n",
        "def rotation_matrix(angle_degree):\n",
        "    ang = np.radians(angle_degree)\n",
        "    return np.array([\n",
        "        [np.cos(ang), -np.sin(ang)],\n",
        "        [np.sin(ang), np.cos(ang)]\n",
        "    ])\n",
        "\n",
        "# テスト\n",
        "R = rotation_matrix(30)\n",
        "assert np.allclose(R @ R.T, np.identity(2))\n",
        "assert np.isclose(linalg.det(R), 1.0)"
      ],
      "execution_count": null,
      "outputs": []
    },
    {
      "cell_type": "code",
      "metadata": {
        "id": "-Xet7-zgeOcO"
      },
      "source": [
        "# 基本ベクトルの回転\n",
        "\n",
        "X = np.array([[1, 0], [0, 1]]).T\n",
        "R = rotation_matrix(15)\n",
        "\n",
        "RX = R @ X\n",
        "\n",
        "fig, ax = plt.subplots()\n",
        "set_plot_style(ax)\n",
        "\n",
        "ax.scatter(X[0], X[1])\n",
        "ax.scatter(RX[0], RX[1])\n",
        "\n",
        "for i in range(X.shape[1]):\n",
        "    ax.arrow(0, 0, X[0][i], X[1][i], length_includes_head=True, head_width=0.1, color=\"GRAY\")\n",
        "    ax.arrow(0, 0, RX[0][i], RX[1][i], length_includes_head=True, head_width=0.1, color=\"RED\")\n",
        "\n"
      ],
      "execution_count": null,
      "outputs": []
    },
    {
      "cell_type": "markdown",
      "metadata": {
        "id": "yfLHGTS2oF8G"
      },
      "source": [
        "# 平面上の線形変換+平行移動 = アフィン変換\n",
        "\n",
        "平行移動 $\\boldsymbol{b}$ が線形変換の後に加えられる変換を**アフィン変換** (affine transform) という.\n",
        "\n",
        "$$ \\boldsymbol{x}' = A\\boldsymbol{x} + \\boldsymbol{b} $$\n",
        "\n",
        "複数の点集合を 1 つの行列 \n",
        "$ X = \\begin{bmatrix}\\boldsymbol{x}_{0} & \\boldsymbol{x}_{1} & \\cdots & \\boldsymbol{x}_{n-1} \\end{bmatrix} \\in \\mathbb{R}^{2 \\times n}$ \n",
        "で表すと,\n",
        "変換後の点集合 \n",
        "$ X' = \\begin{bmatrix} \\boldsymbol{x}'_0 & \\boldsymbol{x}'_1 & \\cdots & \\boldsymbol{x}'_{n-1} \\end{bmatrix}$ は\n",
        "$$ X' = AX + B, \n",
        "\\text{ where } B := \\begin{bmatrix}\\boldsymbol{b} & \\boldsymbol{b} & \\cdots & \\boldsymbol{b} \\end{bmatrix} $$\n",
        "のようにまとめて書くことができる.\n",
        "\n",
        "平行移動成分を加える処理は, 平行移動ベクトルを複製して足す必要があり, 数学的には処理が煩雑で美しくない.\n",
        "ただし NumPy ではブロードキャストという機能のおかげで,\n",
        "単にベクトルを足すコードで実現することができる."
      ]
    },
    {
      "cell_type": "markdown",
      "metadata": {
        "id": "_NbVOe8doMj3"
      },
      "source": [
        "## 多角形の頂点で観察する"
      ]
    },
    {
      "cell_type": "code",
      "metadata": {
        "id": "n86wjlOR_Doo"
      },
      "source": [
        "# 平面上の点集合\n",
        "# 書くときは、点の座標を横に並べて書くほうが簡単だが、\n",
        "# 数学で扱う場合、行列としては各列に座標を並べたいので、最後に転置する\n",
        "# なお、機械学習などでは各行にデータのベクトルを並べたものを扱うほうが普通\n",
        "\n",
        "X = np.array([\n",
        "    [0.0, 0.0],\n",
        "    [0.0, 1.0],\n",
        "    [1.0, 1.0],\n",
        "    [1.0, 0.0],\n",
        "    [0.3, 0.5]\n",
        "]).T\n",
        "\n",
        "# 各 \"列\" が座標\n",
        "X"
      ],
      "execution_count": null,
      "outputs": []
    },
    {
      "cell_type": "code",
      "metadata": {
        "id": "CceK9rjR_Do9"
      },
      "source": [
        "# 線形変換の表現行列\n",
        "A = rotation_matrix(15)\n",
        "\n",
        "# 平行移動ベクトル\n",
        "b = np.array([0.5, 0.2])"
      ],
      "execution_count": null,
      "outputs": []
    },
    {
      "cell_type": "code",
      "metadata": {
        "id": "01uvhOYj_DpE"
      },
      "source": [
        "# A, b による変換\n",
        "# b を縦ベクトル (d x 1 行列) とすることで、\n",
        "# [b b ... b] のように自動的に増やしてから加算される（ブロードキャスト）\n",
        "\n",
        "X2 = A @ X + b.reshape(-1, 1)\n",
        "X2\n",
        "\n",
        "# ちなみに, 試してみるとわかるが,\n",
        "# 1D 配列は転置 (.T) をしても効果がない.\n",
        "# X と同じように転置を使うなら,\n",
        "# np.array([[0.5, 0.2]]).T のように\n",
        "# 2D 配列としておく必要がある."
      ],
      "execution_count": null,
      "outputs": []
    },
    {
      "cell_type": "code",
      "metadata": {
        "id": "IYzVRUrX_DpN"
      },
      "source": [
        "fig, ax = plt.subplots()\n",
        "set_plot_style(ax)\n",
        "\n",
        "ax.fill(X[0], X[1], facecolor=(0,0,0,0.1), edgecolor=(0,0,0,0.5))\n",
        "ax.fill(X2[0], X2[1], facecolor=(1,0,0,0.1), edgecolor=(1,0,0,0.5))\n",
        "\n",
        "# 原点の移動\n",
        "ax.arrow(0, 0, b[0], b[1], head_width=0.05, length_includes_head=True)\n",
        "\n"
      ],
      "execution_count": null,
      "outputs": []
    },
    {
      "cell_type": "markdown",
      "metadata": {
        "id": "B6_eFAzL0kR3"
      },
      "source": [
        "## 同次座標を使ったアフィン変換行列\n",
        "\n",
        "$$ \\boldsymbol{x}' = A\\boldsymbol{x} + \\boldsymbol{b} $$\n",
        "は, $\\boldsymbol{x}$ の**同次座標** (homogeneous coordinates) $[ \\boldsymbol{x}^\\top \\, 1]^\\top$ を使うと,\n",
        "$$ \\boldsymbol{x}' = \\begin{bmatrix}A & \\boldsymbol{b} \\end{bmatrix} \\begin{bmatrix} \\boldsymbol{x} \\\\ 1 \\end{bmatrix} $$\n",
        "と書くことができる."
      ]
    },
    {
      "cell_type": "code",
      "metadata": {
        "id": "a3_tIPqRAP5z"
      },
      "source": [
        "# X に 1 を追加して, 同次座標にする.\n",
        "\n",
        "# 確認: 点の個数だけ 1 を作る方法\n",
        "# 1 x n の配列にする ( n == X.shape[1] )\n",
        "print(np.ones( (1, X.shape[1]) ))\n",
        "\n",
        "# 行として結合\n",
        "X_ = np.r_[X, np.ones((1, X.shape[1]))]\n",
        "X_"
      ],
      "execution_count": null,
      "outputs": []
    },
    {
      "cell_type": "code",
      "metadata": {
        "id": "Q3jQKmSiDSF2"
      },
      "source": [
        "# アフィン変換行列\n",
        "# A と b を列方向に結合\n",
        "Ab = np.c_[A, b]\n",
        "Ab"
      ],
      "execution_count": null,
      "outputs": []
    },
    {
      "cell_type": "code",
      "metadata": {
        "id": "PA7XfbgyDD5Q"
      },
      "source": [
        "# [ A, b ] による変換\n",
        "\n",
        "X3 = Ab @ X_\n",
        "assert np.array_equal(X2, X3)\n",
        "\n",
        "X3"
      ],
      "execution_count": null,
      "outputs": []
    },
    {
      "cell_type": "code",
      "metadata": {
        "id": "S5MTAxUjWYKM"
      },
      "source": [
        "# X3 をプロットすれば、 X2 と同じなるのは当たり前なので省略.\n",
        "# 各自でやってください."
      ],
      "execution_count": null,
      "outputs": []
    },
    {
      "cell_type": "markdown",
      "metadata": {
        "id": "UBIOIj8i2Fbj"
      },
      "source": [
        "## 結果も同次座標にする\n",
        "\n",
        "$[A\\; \\boldsymbol{b}]$ は同次座標に対して掛け算するだけで線形変換と平行移動をすることができるが,\n",
        "結果が普通の座標となるので, \n",
        "連続して変換を計算することができない。\n",
        "\n",
        "そこで、変換の結果が自動的に同次座標になるようにする。\n",
        "変換前の点の同次座標を $\\begin{bmatrix} \\boldsymbol{x}^\\top & 1 \\end{bmatrix}^\\top$,\n",
        "変換後の点の同次座標を $\\begin{bmatrix} \\boldsymbol{x}'^\\top & 1 \\end{bmatrix}^\\top$ とすると,\n",
        "$$ \\begin{bmatrix} \\boldsymbol{x}' \\\\ 1 \\end{bmatrix} = \\begin{bmatrix} A & \\boldsymbol{b} \\\\ \\boldsymbol{0}_2^\\top & 1 \\end{bmatrix} \\begin{bmatrix} \\boldsymbol{x} \\\\ 1 \\end{bmatrix} $$\n",
        "と書くことができる。"
      ]
    },
    {
      "cell_type": "code",
      "metadata": {
        "id": "Y72lhns46qjP"
      },
      "source": [
        "# 同次化されたアフィン変換行列を作る\n",
        "Ab_ = np.r_[ np.c_[A, b], [[0, 0, 1]] ]\n",
        "Ab_\n",
        "\n",
        "# numpy 配列で複数の値を組み合わせて新しい配列を作る方法はいろいろある。\n",
        "# 例えば、 np.block なども利用できる\n",
        "np.block([[A, b.reshape(-1,1)],[0,0,1]])"
      ],
      "execution_count": null,
      "outputs": []
    },
    {
      "cell_type": "code",
      "metadata": {
        "id": "Cef0VcaE2FGo"
      },
      "source": [
        "# アフィン変換を適用する\n",
        "X4_ = Ab_ @ X_\n",
        "\n",
        "# さらに変換させてみる\n",
        "X5_ = Ab_ @ X4_\n",
        "\n",
        "print(X4_)\n",
        "print(X5_)"
      ],
      "execution_count": null,
      "outputs": []
    },
    {
      "cell_type": "code",
      "metadata": {
        "id": "4Ct2b6po5sMG"
      },
      "source": [
        "# 同次座標はそのままプロットに渡せない\n",
        "# 第3成分を除く必要がある\n",
        "X4 = X4_[:-1]\n",
        "X5 = X5_[:-1]\n",
        "\n",
        "fig, ax = plt.subplots()\n",
        "set_plot_style(ax)\n",
        "\n",
        "ax.fill(X[0], X[1], facecolor=(0,0,0,0.1), edgecolor=(0,0,0,0.5))\n",
        "ax.fill(X4[0], X4[1], facecolor=(1,0,0,0.1), edgecolor=(1,0,0,0.5))\n",
        "ax.fill(X5[0], X5[1], facecolor=(0,0,1,0.1), edgecolor=(0,0,1,0.5))"
      ],
      "execution_count": null,
      "outputs": []
    },
    {
      "cell_type": "markdown",
      "metadata": {
        "id": "ekNME-5EnZ-_"
      },
      "source": [
        "# 練習問題"
      ]
    },
    {
      "cell_type": "markdown",
      "metadata": {
        "id": "-ACIob8UTAJg"
      },
      "source": [
        "## Q1\n",
        "最後の例を、 for ループを使って 10 回程度連続で行い、描画する（色はすべて同じでよい）\n"
      ]
    },
    {
      "cell_type": "code",
      "metadata": {
        "id": "OHx53-vaS2ER"
      },
      "source": [
        ""
      ],
      "execution_count": null,
      "outputs": []
    },
    {
      "cell_type": "markdown",
      "metadata": {
        "id": "2RoU11ZCTL4D"
      },
      "source": [
        "## Q2\n",
        "\n",
        "`rotation_matrix(deg)` の同次化版 `rotation_matrix_h(deg)` を定義する。同じように平行移動変換 `translation_matrix_h(tx, ty)`, スケーリング `scaling_matrix_h(sx, sy)` を定義してテストする\n"
      ]
    },
    {
      "cell_type": "code",
      "metadata": {
        "id": "cBiu-yb5S1wN"
      },
      "source": [
        ""
      ],
      "execution_count": null,
      "outputs": []
    },
    {
      "cell_type": "markdown",
      "metadata": {
        "id": "yapvxdRCTNuR"
      },
      "source": [
        "## Q3\n",
        "\n",
        "指定した点 $\\boldsymbol{x}$ を中心に回転させる変換は, 回転を $R(\\theta)$,\n",
        "平行移動を $T(\\boldsymbol{x})$ とすると, $Q(\\theta, x) = T(\\boldsymbol{x})R(\\theta)T(-\\boldsymbol{x})$ と書ける。3つの変換を1つずつ順番に描画して、回転が正しく行われていることを確認しなさい。"
      ]
    },
    {
      "cell_type": "code",
      "metadata": {
        "id": "XoLKrRPISzQe"
      },
      "source": [
        ""
      ],
      "execution_count": null,
      "outputs": []
    },
    {
      "cell_type": "markdown",
      "metadata": {
        "id": "ntpjA8dmSIDT"
      },
      "source": [
        "## 解答例\n",
        "\n",
        "最初は見ないでやってみること。"
      ]
    },
    {
      "cell_type": "code",
      "metadata": {
        "id": "JfByhqwMrddU",
        "cellView": "both"
      },
      "source": [
        "# Q1 \n",
        "fig, ax = plt.subplots()\n",
        "set_plot_style(ax)\n",
        "\n",
        "ax.fill(X[0], X[1], facecolor=(0,0,0,0.1), edgecolor=(0,0,0,0.5))\n",
        "\n",
        "XX_ = X_\n",
        "for i in range(20):\n",
        "    XX_ = Ab_ @ XX_\n",
        "    XX = XX_[:-1]\n",
        "    ax.fill(XX[0], XX[1], facecolor=(0,0,0,0.1), edgecolor=(0,0,0,0.5))\n"
      ],
      "execution_count": null,
      "outputs": []
    },
    {
      "cell_type": "code",
      "metadata": {
        "id": "2K2aW7HZPBVy"
      },
      "source": [
        "# Q2\n",
        "\n",
        "def rotation_matrix_h(angle_degree):\n",
        "    ang = np.radians(angle_degree)\n",
        "    return np.array([\n",
        "        [np.cos(ang), -np.sin(ang), 0],\n",
        "        [np.sin(ang), np.cos(ang), 0],\n",
        "        [0, 0, 1]\n",
        "    ])\n",
        "\n",
        "def translation_matrix_h(tx, ty):\n",
        "    return np.array([\n",
        "        [1, 0, tx],\n",
        "        [0, 1, ty],\n",
        "        [0, 0, 1]\n",
        "    ])\n",
        "\n",
        "def scaling_matrix_h(sx, sy):\n",
        "    return np.array([\n",
        "        [sx, 0, 0],\n",
        "        [0, sy, 0],\n",
        "        [0, 0, 1]\n",
        "    ])\n",
        "\n"
      ],
      "execution_count": null,
      "outputs": []
    },
    {
      "cell_type": "code",
      "metadata": {
        "id": "qlpvIJjyTgW4"
      },
      "source": [
        "# Q3\n",
        "\n",
        "p = (0.3, 0.5)\n",
        "ang_deg = 15\n",
        "\n",
        "X1_ = translation_matrix_h(-p[0], -p[1]) @ X_\n",
        "X2_ = rotation_matrix_h(ang_deg) @ X1_\n",
        "X3_ = translation_matrix_h(p[0], p[1]) @ X2_\n",
        "\n",
        "fig, ax = plt.subplots()\n",
        "set_plot_style(ax)\n",
        "\n",
        "ax.fill(X[0], X[1], facecolor=(1,0,0,0.1), edgecolor=(1,0,0,0.5))\n",
        "ax.fill(X1_[:-1][0], X1_[:-1][1], facecolor=(0,0,0,0.1), edgecolor=(0,0,0,0.5))\n",
        "ax.fill(X2_[:-1][0], X2_[:-1][1], facecolor=(0,0,0,0.1), edgecolor=(0,0,0,0.5))\n",
        "ax.fill(X3_[:-1][0], X3_[:-1][1], facecolor=(0,0,1,0.1), edgecolor=(0,0,1,0.5))\n"
      ],
      "execution_count": null,
      "outputs": []
    },
    {
      "cell_type": "code",
      "metadata": {
        "id": "O3hg5oYmTlp3"
      },
      "source": [
        ""
      ],
      "execution_count": null,
      "outputs": []
    }
  ]
}