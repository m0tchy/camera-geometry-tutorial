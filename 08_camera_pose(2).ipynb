{
  "nbformat": 4,
  "nbformat_minor": 0,
  "metadata": {
    "colab": {
      "name": "08_camera-pose(2).ipynb",
      "provenance": [],
      "collapsed_sections": [],
      "toc_visible": true,
      "authorship_tag": "ABX9TyPV1JKRuhi4Fee52F8eO1SS",
      "include_colab_link": true
    },
    "kernelspec": {
      "name": "python3",
      "display_name": "Python 3"
    }
  },
  "cells": [
    {
      "cell_type": "markdown",
      "metadata": {
        "id": "view-in-github",
        "colab_type": "text"
      },
      "source": [
        "<a href=\"https://colab.research.google.com/github/m0tchy/camera-geometry-tutorial/blob/main/08_camera_pose(2).ipynb\" target=\"_parent\"><img src=\"https://colab.research.google.com/assets/colab-badge.svg\" alt=\"Open In Colab\"/></a>"
      ]
    },
    {
      "cell_type": "markdown",
      "metadata": {
        "id": "uMUJmMC7p0gk"
      },
      "source": [
        "# 準備\n",
        "\n",
        "今回は、世界座標系として +Z を上向きにとってプロットすることにする。そのため、 YZ を入れ替えるような特殊な処理は必要なくなる。\n"
      ]
    },
    {
      "cell_type": "code",
      "metadata": {
        "id": "AF162PmCsO5J"
      },
      "source": [
        "import numpy as np\n",
        "import matplotlib.pyplot as plt\n",
        "\n",
        "def init_3d_plot():\n",
        "    \"\"\"Create a new figure for a 3d plot.\"\"\"\n",
        "\n",
        "    fig = plt.figure(figsize=(10, 10))\n",
        "    ax = fig.add_subplot(projection=\"3d\")\n",
        "    ax.set_xlim(-5, 5)\n",
        "    ax.set_ylim(-5, 5)\n",
        "    ax.set_zlim(-1, 9)\n",
        "    ax.set_xlabel(\"X\")\n",
        "    ax.set_ylabel(\"Y\")\n",
        "    ax.set_zlabel(\"Z\")\n",
        "    ax.view_init(20, -25)\n",
        "\n",
        "    # X, Y, Z axes\n",
        "    ax.plot([0, 1], [0, 0], [0, 0], color=\"RED\")  # X 軸\n",
        "    ax.plot([0, 0], [0, 1], [0, 0], color=\"GREEN\")  # Y 軸\n",
        "    ax.plot([0, 0], [0, 0], [0, 1], color=\"BLUE\")  # Z 軸\n",
        "\n",
        "    return fig, ax\n",
        "\n",
        "\n",
        "# demo\n",
        "fig, ax = init_3d_plot()"
      ],
      "execution_count": null,
      "outputs": []
    },
    {
      "cell_type": "markdown",
      "metadata": {
        "id": "-sJTiIG0rPic"
      },
      "source": [
        "家のモデルも定義しよう。\n",
        "前回のとは違い、 Z 軸が高さになるように描かれている。"
      ]
    },
    {
      "cell_type": "code",
      "metadata": {
        "id": "K9OXmjn-rOc0"
      },
      "source": [
        "# (0, 0, 0) が床面の中央なっている家のモデル\n",
        "house_vertices = np.array([\n",
        "    [-1, -1, -1, 1], \n",
        "    [1, -1, -1, 1], \n",
        "    [1, 1, -1, 1], \n",
        "    [-1, 1, -1, 1], \n",
        "\n",
        "    [-1, -1, 1, 1],\n",
        "    [1, -1, 1, 1],\n",
        "    [1, 1, 1, 1],\n",
        "    [-1, 1, 1, 1],\n",
        "\n",
        "    [0, 0, 2, 1],\n",
        "])\n",
        "\n",
        "house_edges = [\n",
        "    [0, 1, 2, 3, 0], \n",
        "    [4, 5, 6, 7, 4], \n",
        "    [0, 4, 8], \n",
        "    [1, 5, 8], \n",
        "    [2, 6, 8], \n",
        "    [3, 7, 8], \n",
        "]\n"
      ],
      "execution_count": null,
      "outputs": []
    },
    {
      "cell_type": "markdown",
      "metadata": {
        "id": "XMt2mIEht-rI"
      },
      "source": [
        "このようなモデルを変換してプロットする関数を作る。"
      ]
    },
    {
      "cell_type": "code",
      "metadata": {
        "id": "65h3Um-Mt-Zv"
      },
      "source": [
        "def plot_model(ax, vertices_, edges, transform=np.identity(4)):\n",
        "    X_ = (transform @ vertices_.T).T\n",
        "\n",
        "    # 普通の座標に変換\n",
        "    Xw = X_[:, 0] / X_[:, 3]\n",
        "    Yw = X_[:, 1] / X_[:, 3]\n",
        "    Zw = X_[:, 2] / X_[:, 3]\n",
        "\n",
        "    ax.scatter(Xw, Yw, Zw, color=\"GRAY\")\n",
        "    for e in edges:\n",
        "        ax.plot(Xw[e], Yw[e], Zw[e], color=\"GRAY\")\n",
        "\n",
        "# モデルの位置を変える\n",
        "house_trans1 = np.identity(4)  # 単位行列なので、位置を変更しない\n",
        "\n",
        "house_trans2 = np.array([\n",
        "    [1, 0, 0, -2],\n",
        "    [0, 1, 0, 0],\n",
        "    [0, 0, 1, 4],\n",
        "    [0, 0, 0, 1],\n",
        "])\n",
        "\n",
        "# demo\n",
        "fig, ax = init_3d_plot()\n",
        "plot_model(ax, house_vertices, house_edges, house_trans1)\n",
        "plot_model(ax, house_vertices, house_edges, house_trans2)"
      ],
      "execution_count": null,
      "outputs": []
    },
    {
      "cell_type": "markdown",
      "metadata": {
        "id": "zpjfQASvHH1A"
      },
      "source": [
        "# カメラの姿勢\n",
        "\n"
      ]
    },
    {
      "cell_type": "markdown",
      "metadata": {
        "id": "S3213kYHBiZK"
      },
      "source": [
        "## 姿勢を表す行列\n",
        "\n",
        "カメラの姿勢は、世界座標からカメラ座標の変換行列で定義される。\n",
        "空間の点の世界座標とカメラ座標をそれぞれ $\\boldsymbol{X}^\\mathsf{W}$, $\\boldsymbol{X}^\\mathsf{C}$ とすると、一般に\n",
        "$$\n",
        "\\boldsymbol{X}^\\mathsf{C} = R \\boldsymbol{X}^\\mathsf{W} + \\boldsymbol{T}\n",
        "$$\n",
        "の形になる。\n",
        "この $R$, $\\boldsymbol{T}$ のことをカメラの**姿勢** (camera pose) という。\n",
        "\n",
        "$R$ が任意の行列（つまり線形変換）になることもあるが、普通は回転行列である。その場合、この式は剛体変換（鏡映を含まないユークリッド変換）である。\n",
        "ここでは $R$ が回転行列の場合だけを考えることにする。\n",
        "\n",
        "また、同次座標では以下のようになる。\n",
        "\\begin{align}\n",
        "    \\tilde{\\boldsymbol{X}}^\\mathsf{C} &=\n",
        "    \\begin{bmatrix}\n",
        "        R & \\boldsymbol{T} \\\\\n",
        "        \\boldsymbol{0}^\\top & 1\n",
        "    \\end{bmatrix}\n",
        "    \\tilde{\\boldsymbol{X}}^\\mathsf{W}\n",
        "\\end{align}\n",
        "\n",
        "\n"
      ]
    },
    {
      "cell_type": "markdown",
      "metadata": {
        "id": "yvi6_LcN5tUX"
      },
      "source": [
        "## 撮影されたシーンの表示\n",
        "\n",
        "カメラを定義できれば、透視投影を計算してシーンを撮影することができる。\n",
        "\n",
        "投影面の座標系の設定と頂点の変換・辺の表示は前回と同じだが、\n",
        "それぞれ関数にして実装しよう。"
      ]
    },
    {
      "cell_type": "code",
      "metadata": {
        "id": "dLiJUgHe9cBU"
      },
      "source": [
        "def init_2d_plot():\n",
        "    fig, ax = plt.subplots()\n",
        "    ax.set_xlim(-1, 1)\n",
        "    ax.set_ylim(-1, 1)\n",
        "    ax.invert_yaxis()  # 画像の座標系になるように y 軸を下向きにする\n",
        "    ax.set_aspect(\"equal\")\n",
        "\n",
        "    return fig, ax\n",
        "\n",
        "\n",
        "def plot_image(ax, vertices_, edges, transform, camera_pose, focal_length=1):\n",
        "\n",
        "    # 透視投影行列\n",
        "    projection = np.array([\n",
        "    [focal_length, 0, 0, 0], \n",
        "    [0, focal_length, 0, 0], \n",
        "    [0, 0, focal_length, 0], \n",
        "    [0, 0, 1, 0]])\n",
        "\n",
        "    # X はモデル変換・ビュー変換・透視投影の順で変換される\n",
        "    X_ = (projection @ camera_pose @ transform @ vertices_.T).T\n",
        "\n",
        "    # 普通の座標に変換\n",
        "    x = X_[:, 0] / X_[:, 3]\n",
        "    y = X_[:, 1] / X_[:, 3]\n",
        "\n",
        "    ax.scatter(x, y, color=\"BLACK\")\n",
        "    for e in edges:\n",
        "        ax.plot(x[e], y[e])  # 表示のために Y, Z を入れ替える\n"
      ],
      "execution_count": null,
      "outputs": []
    },
    {
      "cell_type": "markdown",
      "metadata": {
        "id": "ir-l3w32391q"
      },
      "source": [
        "## 何も変換しない場合\n",
        "\n",
        "前回は世界座標と一致したカメラ座標を回転・並進するとどうなるかを考えた。\n",
        "もし、上の式で $R = I$、 $\\boldsymbol{T}=\\mathbf{0}$ とすると、これは何も変換しないことになる。\n",
        "$$\n",
        "\\boldsymbol{X}^\\mathsf{C} = \\boldsymbol{X}^\\mathsf{W}\n",
        "$$\n",
        "\n",
        "\\begin{align}\n",
        "    \\tilde{\\boldsymbol{X}}^\\mathsf{C} &=\n",
        "    \\begin{bmatrix}\n",
        "        1 & 0 & 0 & 0 \\\\\n",
        "        0 & 1 & 0 & 0 \\\\\n",
        "        0 & 0 & 1 & 0 \\\\\n",
        "        0 & 0 & 0 & 1\n",
        "    \\end{bmatrix}\n",
        "    \\tilde{\\boldsymbol{X}}^\\mathsf{W}\n",
        "\\end{align}\n"
      ]
    },
    {
      "cell_type": "code",
      "metadata": {
        "id": "lCCJpwcV5lPi"
      },
      "source": [
        "pose = np.identity(4)  #  R=I, T=0\n",
        "\n",
        "fig, ax = init_2d_plot()\n",
        "\n",
        "# 原点にある家は、カメラと重なるのでうまく表示されない\n",
        "#plot_image(ax, house_vertices, house_edges, house_trans1, pose)\n",
        "plot_image(ax, house_vertices, house_edges, house_trans2, pose)"
      ],
      "execution_count": null,
      "outputs": []
    },
    {
      "cell_type": "markdown",
      "metadata": {
        "id": "6IJ4q_We80dR"
      },
      "source": [
        "`house_trans1` は何も移動しないので、カメラと物体が重なった位置になる。この場合（ちゃんと処理を書かないと）うまく表示されない。\n",
        "\n",
        "カメラは Z 軸方向を向いているので、`house_trans2` は下から見上げたように表示されることがわかる。"
      ]
    },
    {
      "cell_type": "markdown",
      "metadata": {
        "id": "399KbRXq975S"
      },
      "source": [
        "## カメラの向きは変わらず位置だけ変わる場合\n",
        "\n",
        "カメラの位置は、その光学中心（投影中心）で表す。\n",
        "カメラ位置が世界座標の原点にあるとし、世界座標 $\\boldsymbol{C}$ にするには、\n",
        "撮影対象の世界座標をその**逆**に動かすことでカメラから見た座標に変換できる。したがって、\n",
        "$$\n",
        "\\boldsymbol{X}^\\mathsf{C} = \\boldsymbol{X}^\\mathsf{W} - \\boldsymbol{C}\n",
        "$$\n",
        "\\begin{align}\n",
        "    \\tilde{\\boldsymbol{X}}^\\mathsf{C} &=\n",
        "    \\begin{bmatrix}\n",
        "        I_{3\\times 3} & -\\boldsymbol{C} \\\\\n",
        "        \\boldsymbol{0}_3^\\top & 1\n",
        "    \\end{bmatrix}\n",
        "    \\tilde{\\boldsymbol{X}}^\\mathsf{W}\n",
        "\\end{align}\n",
        "となる。\n",
        "\n",
        "例えば、カメラの位置を Z 軸の負の方向に動かすと、先ほどの図形は小さく映る。\n",
        "物体がカメラの前方に配置されるようにすれば、 `house_trans1`, `house_trans2` はそれぞれ正しく表示される。"
      ]
    },
    {
      "cell_type": "code",
      "metadata": {
        "id": "B9WdqWy0-EBI"
      },
      "source": [
        "C = np.array([0, 0, -3])  # カメラの位置\n",
        "\n",
        "pose = np.identity(4)  #  R=I, T=0\n",
        "pose[0:3, 3] = -C  # T の部分を変更\n",
        "\n",
        "fig, ax = init_2d_plot()\n",
        "\n",
        "# 物体は、カメラと重ならなければ正しく映る\n",
        "plot_image(ax, house_vertices, house_edges, house_trans1, pose)\n",
        "plot_image(ax, house_vertices, house_edges, house_trans2, pose)"
      ],
      "execution_count": null,
      "outputs": []
    },
    {
      "cell_type": "markdown",
      "metadata": {
        "id": "_Pp2L8Tf_ZY6"
      },
      "source": [
        "##  位置は動かず向きだけ変わる場合\n",
        "\n",
        "カメラの向きが変わると、座標軸のさす方向が変わる。\n",
        "例えば、カメラ座標系では X 軸はいつも方向ベクトル $[1, 0, 0]$ で表現できる。\n",
        "このベクトルが世界座標系では違う向きになっている。\n",
        "\n",
        "軸の方向ベクトルが世界座標系とカメラ座標系で一致している状態から回転させて向きを変えることを考えよう。\n",
        "それは回転行列で表現できる。\n",
        "例えば、カメラを右に向けると、撮影対象のカメラ座標は世界座標から左に回転した位置になる。\n",
        "\n",
        "カメラの回転を回転行列 $V$ とすると、その**逆行列**を考えればよい。ここで回転行列の性質から $V^{-1} = V^\\top$ なので、\n",
        "$$\n",
        "\\boldsymbol{X}^\\mathsf{C} = V^\\top \\boldsymbol{X}^\\mathsf{W}$$\n",
        "となる。\n",
        "\n"
      ]
    },
    {
      "cell_type": "code",
      "metadata": {
        "id": "Q_Lj0a8i_j3A"
      },
      "source": [
        "ang=np.radians(-10)  # Y 軸周りの回転\n",
        "V = np.array([\n",
        "    [np.cos(ang), 0, np.sin(ang)],\n",
        "    [0, 1, 0],\n",
        "    [-np.sin(ang), 0, np.cos(ang)],\n",
        "])\n",
        "pose = np.identity(4)  #  R=I, T=0\n",
        "pose[0:3, 0:3] = V.T  # R の部分を変更\n",
        "\n",
        "fig, ax = init_2d_plot()\n",
        "\n",
        "# 物体は、カメラと重ならなければ正しく映る\n",
        "# plot_image(ax, house_vertices, house_edges, house_trans1, pose)\n",
        "plot_image(ax, house_vertices, house_edges, house_trans2, pose)"
      ],
      "execution_count": null,
      "outputs": []
    },
    {
      "cell_type": "markdown",
      "metadata": {
        "id": "gMvAQW7jAoZL"
      },
      "source": [
        "### 練習\n",
        "\n",
        "右に $\\theta$ 度, 下に $\\phi$ 度首を振る回転（パンチル）は世界座標系の $\\mathsf{Y}^\\mathsf{W}$ 軸回転行列 $R_{\\mathsf{Y}}(\\phi)$, 世界座標系の $\\mathsf{X}^\\mathsf{W}$ 軸回転行列 $R_{\\mathsf{X}}(\\theta)$ を使うと、$V = R_{\\mathsf{Y}}(\\phi) R_{\\mathsf{X}}(\\theta)$ である。したがって、 $V^\\top = R_\\mathsf{X}(\\theta)^\\top R_\\mathsf{Y}(\\phi)^\\top  $ となる。\n",
        "\n",
        "パンチル回転を表す回転行列を作る関数  `rotation_pan_tilt(pan, tilt)` を定義して、テストしなさい。"
      ]
    },
    {
      "cell_type": "code",
      "metadata": {
        "id": "srfTWLD_AlVi"
      },
      "source": [
        ""
      ],
      "execution_count": null,
      "outputs": []
    },
    {
      "cell_type": "markdown",
      "metadata": {
        "id": "HhGNz8Z1BAeK"
      },
      "source": [
        "## 一般の場合\n",
        "\n",
        "この2つが組み合わされた時は、 $\\boldsymbol{X}^\\mathsf{C} = V^\\top\\boldsymbol{X}^\\mathsf{W} - \\boldsymbol{C}$ **ではない** ことに注意しよう。\n",
        "この変換では先に回転が行われる。そうすると、すでに座標系が動いているため、平行移動したい先の $\\boldsymbol{C}$ も移動している。その移動先は、 $V^\\top \\boldsymbol{C}$ である。したがって、\n",
        "\\begin{align}\n",
        "    \\boldsymbol{X}^\\mathsf{C} &= V^\\top\\boldsymbol{X}^\\mathsf{W} - V^\\top \\boldsymbol{C} \\\\\n",
        "    &= V^\\top(\\boldsymbol{X}^\\mathsf{W} - \\boldsymbol{C})\n",
        "\\end{align}\n",
        "である。\n",
        "2番目の式は先に平行移動してカメラ中心を原点に移動してから回転すると解釈できる。\n",
        "\n",
        "最初の一般形との関係は、\n",
        "\\begin{align}\n",
        "    R &= V^\\top \\\\\n",
        "    \\boldsymbol{T} &= -V^\\top \\boldsymbol{C}\n",
        "\\end{align}\n",
        "となる。\n",
        "また、同次座標では以下のようになる。\n",
        "\\begin{align}\n",
        "    \\tilde{\\boldsymbol{X}}^\\mathsf{C} &=\n",
        "    \\begin{bmatrix}\n",
        "        R & \\boldsymbol{T} \\\\\n",
        "        \\boldsymbol{0}^\\top & 1\n",
        "    \\end{bmatrix}\n",
        "    \\tilde{\\boldsymbol{X}}^\\mathsf{W} \\\\\n",
        "    &= \\begin{bmatrix}\n",
        "        R & -R\\boldsymbol{C} \\\\\n",
        "        \\boldsymbol{0}^\\top & 1\n",
        "    \\end{bmatrix}\n",
        "    \\tilde{\\boldsymbol{X}}^\\mathsf{W}\n",
        "\\end{align}\n",
        "この2番目の式のように、回転行列を転置せず、投影中心を含めた形で書くことも多い。\n",
        "\n",
        "**補足**: 前回の資料は $V$ に相当するものを $R$ と書いていた。混乱しないように。"
      ]
    },
    {
      "cell_type": "markdown",
      "metadata": {
        "id": "Q9tSdTayJ1_J"
      },
      "source": [
        "まずは、適当にカメラを設置する。\n",
        "ここでは、カメラの向きを以下のようにする。\n",
        "* 右方向 ($\\mathsf{X}^\\mathsf{C}$) は世界座標系と同じにする\n",
        "* $\\mathsf{Z}^\\mathsf{C}$ 軸方向を世界座標系の $\\mathsf{Y}^\\mathsf{C}$ にする。\n",
        "\n",
        "これはつまり、世界座標を $\\mathsf{X}^\\mathsf{W}$ 軸回りに $-90^\\circ$ 回転することに相当する。"
      ]
    },
    {
      "cell_type": "code",
      "metadata": {
        "id": "bjPnYl63JzCg"
      },
      "source": [
        "# カメラを定義するために、姿勢を表す行列（＝世界 to カメラ変換）を作る\n",
        "center = np.array([-2, -4, 3.5])  # in world\n",
        "# X 軸周り -90 度の回転を、転置して逆変換にする\n",
        "V = np.array([\n",
        "    [1, 0, 0],\n",
        "    [0, 0, 1],\n",
        "    [0, -1, 0],\n",
        "])\n",
        "\n",
        "R = V.T\n",
        "T = -V.T @ center\n",
        "\n",
        "pose = np.identity(4)\n",
        "pose[0:3, 0:3] = R\n",
        "pose[0:3, 3] = T\n",
        "\n",
        "print(pose)\n",
        "\n",
        "fig, ax = init_2d_plot()\n",
        "plot_image(ax, house_vertices, house_edges, house_trans1, pose)\n",
        "plot_image(ax, house_vertices, house_edges, house_trans2, pose)"
      ],
      "execution_count": null,
      "outputs": []
    },
    {
      "cell_type": "markdown",
      "metadata": {
        "id": "c6mJaMCJG1FV"
      },
      "source": [
        "## 姿勢行列からカメラの姿勢を調べる\n",
        "\n",
        "次に3次元空間上のカメラの姿勢を表示したい。\n",
        "カメラの姿勢は以下の行列の形で与えられているとする。\n",
        "\n",
        "$$\n",
        "    \\begin{bmatrix}\n",
        "        R & \\boldsymbol{T} \\\\\n",
        "        \\boldsymbol{0}^\\top & 1\n",
        "    \\end{bmatrix}\n",
        "$$\n",
        "\n",
        "そこから世界座標系の中でのカメラ中心や\n",
        "座標軸の向きを調べる必要がある。\n",
        "\n",
        "\n",
        "### カメラの位置\n",
        "\n",
        "カメラの位置、つまり光学中心は上の関係式を変形すると $R$, $\\boldsymbol{T}$ から\n",
        "\\begin{align}\n",
        "    \\boldsymbol{C} = -R^\\top \\boldsymbol{T}\n",
        "\\end{align}\n",
        "で計算できる。\n",
        "\n",
        "### カメラ座標系の座標軸の方向\n",
        "\n",
        "上の座標変換を変形して、カメラ座標から世界座標への逆変換を考えよう。\n",
        "\n",
        "\\begin{align}\n",
        "    \\boldsymbol{X}^{\\mathsf{C}} &= \n",
        "    R \\boldsymbol{X}^{\\mathsf{W}} + \\boldsymbol{T}  \\\\ \n",
        "    \\Longleftrightarrow\n",
        "    \\boldsymbol{X}^{\\mathsf{W}} &=  R^\\top (\\boldsymbol{X}^{\\mathsf{C}} - \\boldsymbol{T}) \\\\\n",
        "    \\Longleftrightarrow\n",
        "    \\boldsymbol{X}^{\\mathsf{W}} &=  R^\\top \\boldsymbol{X}^{\\mathsf{C}} - R^\\top\\boldsymbol{T} \\\\\n",
        "    \\Longleftrightarrow\n",
        "    \\boldsymbol{X}^\\mathsf{W} &= R^\\top\\boldsymbol{X}^\\mathsf{C} + \\boldsymbol{C}\n",
        "\\end{align}\n",
        "\n",
        "この式で、カメラ座標で表される点の位置を世界座標に変換できる。\n",
        "\n",
        "$\\mathsf{X}^\\mathsf{C}$ 軸の方向はカメラ座標の $[1, 0, 0]$ を世界座標に変換すればよい。\n",
        "すると、$R^\\top [1, 0, 0]^\\top - \\boldsymbol{C}$ となる。\n",
        "これは、$\\mathsf{X}^\\mathsf{C}$ 軸が $\\boldsymbol{C}$ を基準に $R^\\top [1, 0, 0]^\\top$ の方向であることを表している。この式は $R^\\top$ の第1列、つまり $R$ の第1行を取り出す。\n",
        "\n",
        "ここで、\n",
        "$$\n",
        "    R = \\begin{bmatrix}\n",
        "        \\boldsymbol{R}_1^\\top \\\\\n",
        "        \\boldsymbol{R}_2^\\top \\\\\n",
        "        \\boldsymbol{R}_3^\\top \\end{bmatrix}\n",
        "$$\n",
        "のように**行ベクトル**に分けると、 $R^\\top [1, 0, 0]^\\top = \\boldsymbol{R}_1^\\top$ である。\n",
        "したがって、 $R$ の各**行**はカメラの $\\mathsf{X}^\\mathsf{C}$, $\\mathsf{Y}^\\mathsf{C}$, $\\mathsf{Z}^\\mathsf{C}$ 軸それぞれの**世界座標系での**方向ベクトルになっていることがわかる。\n"
      ]
    },
    {
      "cell_type": "markdown",
      "metadata": {
        "id": "BWxDZ7xHR0is"
      },
      "source": [
        "## カメラの表示\n",
        "\n",
        "与えられた姿勢行列から、カメラの座標系をプロットする関数を作ろう。"
      ]
    },
    {
      "cell_type": "code",
      "metadata": {
        "id": "BNSXL8fszGYW"
      },
      "source": [
        "def plot_camera(ax, pose, focal_length=1.0):\n",
        "\n",
        "    assert pose.shape == (4, 4)\n",
        "    assert (pose[3] == np.array([0, 0, 0, 1])).all()\n",
        "\n",
        "    # aliases\n",
        "    R = pose[0:3, 0:3] / pose[3, 3]\n",
        "    T = pose[0:3, 3] / pose[3, 3]\n",
        "    assert T.shape == (3,)\n",
        "\n",
        "    # camera center in world\n",
        "    C = -R.T @ T\n",
        "\n",
        "    # camera axes in world\n",
        "    X = C + R[0]\n",
        "    Y = C + R[1]\n",
        "    Z = C + R[2]\n",
        "\n",
        "    # camera to world coordinate transform\n",
        "    pose_inv = np.identity(4)\n",
        "    pose_inv[0:3, 0:3] = R.T\n",
        "    pose_inv[0:3, 3] = C\n",
        "\n",
        "    # 数値的には、以下のように逆行列を求める関数を使うこともできるが、\n",
        "    # 剛体変換であれば、上のように行列を作るほうが良い\n",
        "    # pose_inv = np.linalg.inv(pose)\n",
        "\n",
        "    # draw three axes\n",
        "    #ax.plot([0, 0], [-1, 9], [0, 0], \":\", color=\"SILVER\")\n",
        "    ax.plot([C[0], X[0]], [C[1], X[1]], [C[2], X[2]], color=\"RED\")    # X 軸\n",
        "    ax.plot([C[0], Y[0]], [C[1], Y[1]], [C[2], Y[2]], color=\"GREEN\")  # Y 軸\n",
        "    ax.plot([C[0], Z[0]], [C[1], Z[1]], [C[2], Z[2]], color=\"BLUE\")   # Z 軸\n",
        "\n",
        "    # カメラ座標系での投影面の定義\n",
        "    screen_vertices_c = np.array([\n",
        "        [-1, -1, focal_length, 1],\n",
        "        [1, -1, focal_length, 1],\n",
        "        [1, 1, focal_length, 1],\n",
        "        [-1, 1, focal_length, 1]])\n",
        "    # カメラ座標から世界座標へ変換する\n",
        "    screen_vertices = (pose_inv @ screen_vertices_c.T).T\n",
        "\n",
        "    screen_edges = [0, 1, 2, 3, 0]\n",
        "\n",
        "    ax.plot(screen_vertices[screen_edges, 0], \n",
        "            screen_vertices[screen_edges, 1], \n",
        "            screen_vertices[screen_edges, 2], color=\"GRAY\")\n"
      ],
      "execution_count": null,
      "outputs": []
    },
    {
      "cell_type": "code",
      "metadata": {
        "id": "VvGwOyLySZ11"
      },
      "source": [
        "# 世界座標とカメラを表示する\n",
        "fig, ax = init_3d_plot()\n",
        "plot_camera(ax, pose)\n",
        "\n",
        "# 物体もついでに\n",
        "plot_model(ax, house_vertices, house_edges, house_trans1)\n",
        "plot_model(ax, house_vertices, house_edges, house_trans2)"
      ],
      "execution_count": null,
      "outputs": []
    },
    {
      "cell_type": "markdown",
      "metadata": {
        "id": "V4Q71sO6UVf6"
      },
      "source": [
        "## カメラの姿勢を軸の方向で指定\n",
        "\n",
        "カメラの姿勢を、各軸の方向で直接定義できると便利である。\n",
        "各軸の方向を行として並べたものを $R$ とし、\n",
        "カメラの位置 $\\boldsymbol{C}$ から行列を計算する。\n",
        "ただし、各軸が直交していないとおかしいカメラになってしまうので注意が必要である。\n",
        "\n",
        "カメラの姿勢行列を作る関数を定義しよう。\n",
        "ここでは、 $\\mathsf{X}^\\mathsf{C}$, $\\mathsf{Y}^\\mathsf{C}$, $\\mathsf{Z}^\\mathsf{C}$ の方向ベクトルを left, down, front vector と呼ぶことにする。"
      ]
    },
    {
      "cell_type": "code",
      "metadata": {
        "id": "I2QxjwPDSPI_"
      },
      "source": [
        "def compose_camera_pose(center, left, down, front):\n",
        "    assert left.shape == (3,)\n",
        "    assert down.shape == (3,)\n",
        "    assert front.shape == (3,)\n",
        "\n",
        "    R = np.array([left, down, front])\n",
        "    T = -R @ center\n",
        "    assert T.shape == (3,)\n",
        "\n",
        "    pose = np.identity(4)\n",
        "    pose[0:3, 0:3] = R\n",
        "    pose[0:3, 3] = T\n",
        "\n",
        "    return pose\n"
      ],
      "execution_count": null,
      "outputs": []
    },
    {
      "cell_type": "code",
      "metadata": {
        "id": "REi3DJtKqknk"
      },
      "source": [
        "# カメラを定義するために、姿勢を表す行列（＝世界 to カメラ変換）を作る\n",
        "# 座標はすべて世界座標で指定する\n",
        "# 直交するようにしないといけない\n",
        "pos = np.array([-2, -4, 3.5])\n",
        "left = np.array([1, 0, 0])\n",
        "down = np.array([0, 0, -1])\n",
        "front = np.array([0, 1, 0])\n",
        "camera_pose = compose_camera_pose(pos, left, down, front)\n",
        "\n",
        "# 世界座標とカメラを表示する\n",
        "fig, ax = init_3d_plot()\n",
        "plot_camera(ax, camera_pose)"
      ],
      "execution_count": null,
      "outputs": []
    },
    {
      "cell_type": "markdown",
      "metadata": {
        "id": "gCqDB1uMVz9W"
      },
      "source": [
        "## 発展課題：注視点による指定\n",
        "\n",
        "カメラを特定の位置に向かせたいということは多い。\n",
        "そこで、カメラの位置と注視点を指定することでカメラの姿勢を定義する。\n",
        "ただし、この2つの情報では姿勢は一意に定まらない。\n",
        "同じ方向でも方向軸周りの回転の自由度が生まれる（この回転は[roll](https://ja.wikipedia.org/wiki/%E3%83%AD%E3%83%BC%E3%83%AA%E3%83%B3%E3%82%B0) と呼ばれることがある）。\n",
        "しかし、重力のある空間の中では、通常カメラの上下方向は地面に垂直（つまり鉛直）にすることが多いだろう。\n",
        "そこで、CG の分野では、\n",
        "地面の方向（もしくは空の方向）も指定することで、カメラの姿勢を定義する。\n",
        "例えば、 OpenGL では [gluLookAt 関数](https://www.khronos.org/registry/OpenGL-Refpages/gl2.1/xhtml/gluLookAt.xml) が用意されている。\n",
        "\n",
        "実装は以下の順番で考える。\n",
        "0. $R = I$, $\\boldsymbol{T} = \\mathbf{0}$ から始める（世界座標系と一致）\n",
        "1. $\\mathsf{Z}^\\mathsf{C}$ 軸 (`front`) を視線方向に向ける。これはパンチル回転で行えばよい。\n",
        "2. その座標系で $\\mathsf{Z}^\\mathsf{C}$ 軸周りの回転を行い、 $\\mathsf{Y}^\\mathsf{C}$ を `gravity` に向ける。具体的には、$\\mathsf{Y}$-$\\mathsf{Z}^\\mathsf{C}$ 平面に `gravity` が含まれるようにする。 $\\mathsf{Y}^\\mathsf{C}$ 軸が `gravity` と平行になるわけではないことに注意。\n",
        "\n",
        "3つの軸が常に直交になるようにするには、 R を単位行列 I から初めて、何度か回転行列を掛けていくことでできる。"
      ]
    },
    {
      "cell_type": "code",
      "metadata": {
        "id": "Ng5wT_CT_mbj"
      },
      "source": [
        ""
      ],
      "execution_count": null,
      "outputs": []
    }
  ]
}