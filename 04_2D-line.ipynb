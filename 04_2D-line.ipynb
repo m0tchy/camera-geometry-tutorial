{
  "nbformat": 4,
  "nbformat_minor": 0,
  "metadata": {
    "colab": {
      "name": "04_2D-line.ipynb",
      "provenance": [],
      "collapsed_sections": [
        "tvRzdyEZJfIE"
      ],
      "toc_visible": true,
      "authorship_tag": "ABX9TyNMvcnX2pXE8kbxSWASDrzs",
      "include_colab_link": true
    },
    "kernelspec": {
      "name": "python3",
      "display_name": "Python 3"
    }
  },
  "cells": [
    {
      "cell_type": "markdown",
      "metadata": {
        "id": "view-in-github",
        "colab_type": "text"
      },
      "source": [
        "<a href=\"https://colab.research.google.com/github/m0tchy/camera-geometry-tutorial/blob/main/04_2D-line.ipynb\" target=\"_parent\"><img src=\"https://colab.research.google.com/assets/colab-badge.svg\" alt=\"Open In Colab\"/></a>"
      ]
    },
    {
      "cell_type": "code",
      "metadata": {
        "id": "4BmPu4feNiQv"
      },
      "source": [
        "# 準備（共通のコード）\n",
        "import numpy as np\n",
        "import matplotlib.pyplot as plt\n",
        "\n",
        "# 見た目を同じにする\n",
        "def set_style(ax):\n",
        "    ax.grid(True)\n",
        "    ax.axhline(0, color=\"GRAY\")  # x 軸\n",
        "    ax.axvline(0, color=\"GRAY\")  # y 軸\n",
        "    ax.set_xlim(-3, 3)\n",
        "    ax.set_ylim(-3, 3)\n",
        "    ax.set_aspect(\"equal\")"
      ],
      "execution_count": null,
      "outputs": []
    },
    {
      "cell_type": "markdown",
      "metadata": {
        "id": "GJ3rXPU1_0ae"
      },
      "source": [
        "# 直線の表現\n",
        "\n",
        "平面上の曲線は、$x$ と $y$ のある条件（関数）を満たすような点の座標 $(x, y)$ の集合を絵に描いたものであると考えることができる。\n",
        "例えば、 $y = x^2$ は放物線で、 $f(x) = x^2$ という関数に対する $y = f(x)$ のグラフである。\n",
        "また、$x^2+y^2=1$ は円である。\n",
        "この場合は、 $F(x, y) = 0$ という陰関数のグラフである。"
      ]
    },
    {
      "cell_type": "markdown",
      "metadata": {
        "id": "bKH9UDd6BQ1u"
      },
      "source": [
        "## 一次関数のグラフ\n",
        "\n",
        "平面上の直線として中学数学からおなじみの一次関数 $y = ax + b$ を表示してみよう。\n",
        "$a$, $b$ はそれぞれ傾きと y 切片と呼ばれるパラメターである。\n",
        "コンピューターでこのような直線を表示するには、無限に点を打つことができないので、\n",
        "幾つか適当な x に対して y を計算して、その組 (x, y) をプロットすることにする。\n",
        "\n",
        "例えば、 x 座標として、 -1 から 1 の間を等間隔に10点とり座標を計算するためには、\n",
        "以下のようなプログラムを書けばよい。"
      ]
    },
    {
      "cell_type": "code",
      "metadata": {
        "id": "D1iHZpcA_d0M"
      },
      "source": [
        "# 直線のパラメター\n",
        "a, b = 1.2, -1\n",
        "\n",
        "# np.linspace は、指定した範囲を指定した個数の点に分けて配列にする\n",
        "x = np.linspace(-1, 1, num=10)\n",
        "print(x)\n",
        "\n",
        "# y 座標を関数 ax + b に従って求める\n",
        "# numpy 配列に対して計算すると、すべての成分に対して計算がそれぞれ行われる。\n",
        "# これをディストリビューションという。\n",
        "y = a*x + b\n",
        "\n",
        "fig, ax = plt.subplots()\n",
        "set_style(ax)\n",
        "\n",
        "ax.plot(x, y, marker=\"o\")"
      ],
      "execution_count": null,
      "outputs": []
    },
    {
      "cell_type": "markdown",
      "metadata": {
        "id": "FJrAXryiDgp8"
      },
      "source": [
        "### 練習\n",
        "\n",
        "点の数を増やしたり、パラメターを変更してみなさい。"
      ]
    },
    {
      "cell_type": "markdown",
      "metadata": {
        "id": "3W7qFv0wDrWt"
      },
      "source": [
        "## 直線の一般式\n",
        "\n",
        "y 軸は $x = 0$ で表されるが、\n",
        "$y = ax + b$ ではこのような y 軸に平行な式を表せない。\n",
        "\n",
        "そこで、次のような式で直線を表現することにする。\n",
        "$$ ax + by + c = 0$$\n",
        "ここで、 $a$, $b$, $c$ は前のものとは無関係である。\n",
        "\n",
        "これを集合を使って表すと以下のようになる。\n",
        "$$\\mathcal{L} = \\{\\, (x, y) \\mid ax+bx+c=0 \\,\\}$$\n",
        "\n",
        "この式では、 $b \\ne 0$ であれば、\n",
        "$$y = -\\frac{a}{b} x -\\frac{c}{b}$$\n",
        "と変形できるので、一次関数のグラフと同じものが表現できる。\n",
        "また、$a \\ne 0$ かつ $b = 0$ とすると、\n",
        "$$ x = -\\frac{c}{a}$$\n",
        "となり、 y 軸に平行な直線を表現できる。\n",
        "\n",
        "パラメター $(a, b, c)$ は1つの直線に対応するので、\n",
        "これを直線の座標と呼ぶことにする。\n",
        "（なお、細かいことを言うと、 $(a, b) = (0, 0)$ の場合は直線を定義しない。）\n",
        "\n",
        "この座標は定数倍しても同じ直線を表すことがわかる。\n",
        "このように定数倍したものをすべて同じものとみなす（同値という）ようにした座標を同次座標 (homogeneous coordinates) という。\n",
        "\n",
        "ここでは、直線のパラメターが与えられるとその直線をプロットする関数を作ってみる。\n"
      ]
    },
    {
      "cell_type": "code",
      "metadata": {
        "id": "vtm75luHClC0"
      },
      "source": [
        "def plot_line(ax, a, b, c):\n",
        "    x = np.linspace(-1, 1, num=10)\n",
        "    y = -a/b*x - c/b\n",
        "\n",
        "    ax.plot(x, y, marker=\"o\")\n",
        "\n",
        "\n",
        "fig, ax = plt.subplots()\n",
        "set_style(ax)\n",
        "\n",
        "plot_line(ax, 1, 1, -0.3)\n",
        "plot_line(ax, 1, -1.2, -0.3)\n",
        "\n",
        "# このプロットには対応できていない\n",
        "#plot_line(ax, 1, 0, 0.7)\n"
      ],
      "execution_count": null,
      "outputs": []
    },
    {
      "cell_type": "markdown",
      "metadata": {
        "id": "Zz58YXz4IN7c"
      },
      "source": [
        "### 練習問題\n",
        "0. 直線の座標を定数倍しても同じ直線になることを確かめなさい。\n",
        "1. このコードでは、 y 軸に平行な $x = 0.7$ などの直線に対応していない。 $(a, b, c) = (1, 0, -0.7)$ を指定した場合のエラーを確認しなさい。\n",
        "2. プログラムを修正して、 1. に対応しなさい。プロットされる $y$ の範囲は $x$ と同じでよい。\n",
        "3. $y = px + q$ の $p, q$ に対応する `plot_line` の `a, b, c` を計算して表示するコードを書きなさい。（関数にする必要はない） なお、同じ直線は何通りも書けるので、なるべく単純な計算になるようにしなさい。\n"
      ]
    },
    {
      "cell_type": "code",
      "metadata": {
        "id": "9H5-HrMyIIgx"
      },
      "source": [
        ""
      ],
      "execution_count": null,
      "outputs": []
    },
    {
      "cell_type": "markdown",
      "metadata": {
        "id": "tvRzdyEZJfIE"
      },
      "source": [
        "### 解答例（最初は見ないで考えること）"
      ]
    },
    {
      "cell_type": "code",
      "metadata": {
        "id": "M_neO6yuJegN"
      },
      "source": [
        "# 2.\n",
        "def plot_line(ax, a, b, c):\n",
        "\n",
        "    # 直線にならないものだけを処理する\n",
        "    # この条件のパラメターだけ与えることを仮定してよい\n",
        "    assert not (a == 0 and b == 0) \n",
        "\n",
        "    if b != 0:\n",
        "        x = np.linspace(-1, 1, num=10)\n",
        "        y = -a/b*x - c/b\n",
        "    else:\n",
        "        y = np.linspace(-1, 1, num=10)\n",
        "        x = np.ones_like(y) * (-c/a)\n",
        "\n",
        "    ax.plot(x, y, marker=\"o\")\n",
        "\n",
        "\n",
        "fig, ax = plt.subplots()\n",
        "set_style(ax)\n",
        "\n",
        "plot_line(ax, 1, 1, -0.3)\n",
        "plot_line(ax, 1, -1.2, -0.3)\n",
        "plot_line(ax, 1, 0, -0.7)"
      ],
      "execution_count": null,
      "outputs": []
    },
    {
      "cell_type": "code",
      "metadata": {
        "id": "4kDYNjRgKEWv"
      },
      "source": [
        "# 3.\n",
        "\n",
        "# これは一番最初の例と同じ直線\n",
        "p = 1.2  # 傾き\n",
        "q = -1 # 切片\n",
        "\n",
        "# p == -a/b,  q == -c/b  なので\n",
        "# a == -bp,  c == -bq\n",
        "# b は何でもいいので、 b == 1 としてよい\n",
        "\n",
        "b = 1\n",
        "a = -p\n",
        "c = -q\n",
        "\n",
        "fig, ax = plt.subplots()\n",
        "set_style(ax)\n",
        "\n",
        "plot_line(ax, a, b, c)"
      ],
      "execution_count": null,
      "outputs": []
    },
    {
      "cell_type": "code",
      "metadata": {
        "id": "qsZEpD2_LPgm"
      },
      "source": [
        ""
      ],
      "execution_count": null,
      "outputs": []
    }
  ]
}